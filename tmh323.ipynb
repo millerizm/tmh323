{
 "cells": [
  {
   "cell_type": "markdown",
   "metadata": {},
   "source": [
    "# hafta 1\n",
    "* platform ve kaynak tanıtımı\n",
    "* temel kavramlar"
   ]
  },
  {
   "cell_type": "markdown",
   "metadata": {},
   "source": [
    "# hafta 2 veri seçimi, verilerin hazırlanması\n",
    "* jupyter tantımı"
   ]
  },
  {
   "cell_type": "markdown",
   "metadata": {},
   "source": [
    "## pythona hızlı bir başlangıç"
   ]
  },
  {
   "cell_type": "markdown",
   "metadata": {},
   "source": [
    "### print fonksiyonu\n",
    "komut satırına veya dosyaya yazmayı sağlar en çok kullanılan parametresi \"sep\" parametresidir default olarak \" \" belirlenmiştir. diğer sık kullanılan parametre ise end parametresidir."
   ]
  },
  {
   "cell_type": "code",
   "execution_count": 1,
   "metadata": {},
   "outputs": [
    {
     "name": "stdout",
     "output_type": "stream",
     "text": [
      "selam dünyalı\n"
     ]
    }
   ],
   "source": [
    "print(\"selam dünyalı\")"
   ]
  },
  {
   "cell_type": "code",
   "execution_count": 3,
   "metadata": {},
   "outputs": [
    {
     "name": "stdout",
     "output_type": "stream",
     "text": [
      "makine öğrenmesi=>yapay sinir ağları\n"
     ]
    }
   ],
   "source": [
    "print(\"makine öğrenmesi\",\"yapay sinir ağları\",sep=\"=>\")"
   ]
  },
  {
   "cell_type": "markdown",
   "metadata": {},
   "source": [
    "tek tırnak ', çift tırnak \" ve üçlü tırnak olarak kullanılabilir'''.bunun yanında comment için # işareti kullanılabilir."
   ]
  },
  {
   "cell_type": "markdown",
   "metadata": {},
   "source": [
    "### type ve len fonksiyonu\n",
    "type: kullanılan verinin veya değişkenin tipini verir.\n",
    "<br>\n",
    "len: kullanılan dizinin uzunluğunu verir."
   ]
  },
  {
   "cell_type": "code",
   "execution_count": 4,
   "metadata": {},
   "outputs": [
    {
     "data": {
      "text/plain": [
       "str"
      ]
     },
     "execution_count": 4,
     "metadata": {},
     "output_type": "execute_result"
    }
   ],
   "source": [
    "type(\"deneme\")"
   ]
  },
  {
   "cell_type": "code",
   "execution_count": 5,
   "metadata": {},
   "outputs": [
    {
     "data": {
      "text/plain": [
       "float"
      ]
     },
     "execution_count": 5,
     "metadata": {},
     "output_type": "execute_result"
    }
   ],
   "source": [
    "type(5.1)"
   ]
  },
  {
   "cell_type": "code",
   "execution_count": 6,
   "metadata": {},
   "outputs": [
    {
     "data": {
      "text/plain": [
       "11"
      ]
     },
     "execution_count": 6,
     "metadata": {},
     "output_type": "execute_result"
    }
   ],
   "source": [
    "len(\"selam olsun\")"
   ]
  },
  {
   "cell_type": "markdown",
   "metadata": {},
   "source": [
    "### değişken ve değişken belirleme kuralları\n",
    "değişken belirleme kuralları:\n",
    "* sayıyla başlayamaz.\n",
    "* artı eksi çarpma bölme gibi aritmetik işaretlerle başlayamaz.\n",
    "* birden fazla kelime varsa boşluk kullanılamaz.\n",
    "* büyük küçük harf ayrımına dikkat edilmelidir.\n",
    "* özel kelimeler kullanılmamalıdır.(if, true, for vs.)\n",
    "* alfabe harfi veya alt çizgiyle başlayabilir.\n",
    "* olabildiğince tanımlayıcı ve okunabilir seçilmelidir.\n"
   ]
  },
  {
   "cell_type": "markdown",
   "metadata": {},
   "source": [
    "değişken olarak kullanılmayacak kelimeler aşağıdaki kod ile belirlenebiir."
   ]
  },
  {
   "cell_type": "code",
   "execution_count": 8,
   "metadata": {},
   "outputs": [
    {
     "name": "stdout",
     "output_type": "stream",
     "text": [
      "['False', 'None', 'True', 'and', 'as', 'assert', 'async', 'await', 'break', 'class', 'continue', 'def', 'del', 'elif', 'else', 'except', 'finally', 'for', 'from', 'global', 'if', 'import', 'in', 'is', 'lambda', 'nonlocal', 'not', 'or', 'pass', 'raise', 'return', 'try', 'while', 'with', 'yield']\n"
     ]
    }
   ],
   "source": [
    "import keyword\n",
    "yasakli_kelimeler=keyword.kwlist\n",
    "print(yasakli_kelimeler)"
   ]
  },
  {
   "cell_type": "code",
   "execution_count": 9,
   "metadata": {},
   "outputs": [
    {
     "data": {
      "text/plain": [
       "35"
      ]
     },
     "execution_count": 9,
     "metadata": {},
     "output_type": "execute_result"
    }
   ],
   "source": [
    "len(yasakli_kelimeler)"
   ]
  },
  {
   "cell_type": "code",
   "execution_count": 11,
   "metadata": {},
   "outputs": [
    {
     "name": "stdout",
     "output_type": "stream",
     "text": [
      "donanım\n"
     ]
    }
   ],
   "source": [
    "a=b=c=0\n",
    "x=\"yazılım\"\n",
    "y=\"donanım\"\n",
    "x,y=y,x\n",
    "print(x)"
   ]
  },
  {
   "cell_type": "markdown",
   "metadata": {},
   "source": [
    "### karşılaştırma operatörleri ve koşullar"
   ]
  },
  {
   "cell_type": "markdown",
   "metadata": {},
   "source": [
    "* if\n",
    "* elif\n",
    "* else"
   ]
  },
  {
   "cell_type": "code",
   "execution_count": 12,
   "metadata": {},
   "outputs": [
    {
     "name": "stdout",
     "output_type": "stream",
     "text": [
      "pozitif\n"
     ]
    }
   ],
   "source": [
    "a=1\n",
    "if a<0:\n",
    "    print(\"negatif\")\n",
    "elif a>0:\n",
    "    print(\"pozitif\")\n",
    "else:\n",
    "    print(\"sıfır\")"
   ]
  },
  {
   "cell_type": "markdown",
   "metadata": {},
   "source": [
    "### matematiksel operatörler "
   ]
  },
  {
   "cell_type": "markdown",
   "metadata": {},
   "source": [
    "\"+\",\"-\",\"*\",\"/\",\"%\",\"//\""
   ]
  },
  {
   "cell_type": "code",
   "execution_count": 14,
   "metadata": {},
   "outputs": [
    {
     "name": "stdout",
     "output_type": "stream",
     "text": [
      "13\n",
      "3\n",
      "40\n",
      "1.6\n",
      "3\n",
      "1\n"
     ]
    }
   ],
   "source": [
    "a=8\n",
    "b=5\n",
    "print(a+b)\n",
    "print(a-b)\n",
    "print(a*b)\n",
    "print(a/b)\n",
    "print(a%b)\n",
    "print(a//b)"
   ]
  },
  {
   "cell_type": "code",
   "execution_count": 20,
   "metadata": {},
   "outputs": [
    {
     "name": "stdout",
     "output_type": "stream",
     "text": [
      "geçti 67.0\n"
     ]
    }
   ],
   "source": [
    "vize=70\n",
    "final=65\n",
    "ortalama=(vize*0.4)+(final*0.6)\n",
    "if final<50:\n",
    "    print(\"finalden kaldı\")\n",
    "elif ortalama<50:\n",
    "    print(\"ortalamadan kaldı\")\n",
    "else:\n",
    "    print(\"geçti\",ortalama)"
   ]
  },
  {
   "cell_type": "markdown",
   "metadata": {},
   "source": [
    "### döngüler"
   ]
  },
  {
   "cell_type": "markdown",
   "metadata": {},
   "source": [
    "for ve while olmak üzere iki ana döngü kullanılır.\n"
   ]
  },
  {
   "cell_type": "markdown",
   "metadata": {},
   "source": [
    "#### while\n",
    "koşul doğru olduğu sürece çalışır.\n"
   ]
  },
  {
   "cell_type": "code",
   "execution_count": 22,
   "metadata": {},
   "outputs": [
    {
     "name": "stdout",
     "output_type": "stream",
     "text": [
      "1 2 3 4 5 6 7 8 9 10 "
     ]
    }
   ],
   "source": [
    "a=0\n",
    "while a<10:\n",
    "    a+=1\n",
    "    print(a,end=\" \")"
   ]
  },
  {
   "cell_type": "code",
   "execution_count": 26,
   "metadata": {},
   "outputs": [
    {
     "name": "stdout",
     "output_type": "stream",
     "text": [
      "4 8 12 16 20 24 28 32 36 40 44 48 52 56 60 64 68 72 76 80 84 88 92 96 100 "
     ]
    }
   ],
   "source": [
    "a=0\n",
    "while a<100:\n",
    "    a+=1\n",
    "    if a%4==0:\n",
    "        print(a,end=\" \")"
   ]
  },
  {
   "cell_type": "markdown",
   "metadata": {},
   "source": [
    "#### for döngüsü\n",
    "in dizi veya in range olarak kullanıabilir."
   ]
  },
  {
   "cell_type": "code",
   "execution_count": 27,
   "metadata": {},
   "outputs": [
    {
     "name": "stdout",
     "output_type": "stream",
     "text": [
      "m a k i n e   ö ğ r e n m e s i "
     ]
    }
   ],
   "source": [
    "ders_adi=\"makine öğrenmesi\"\n",
    "\n",
    "for harf in ders_adi:\n",
    "    print(harf,end=\" \")"
   ]
  },
  {
   "cell_type": "markdown",
   "metadata": {},
   "source": [
    "RANGE 3 PARAMERE alabilir,1 tane parametre alırsa 0dan başlar.\n",
    "* 2 parametre alırsa başlangıç ve bitişi gösterir.\n",
    "* 3 parametre alırsa başlangıç bitiş ve aralık gösterir.\n"
   ]
  },
  {
   "cell_type": "code",
   "execution_count": 28,
   "metadata": {
    "scrolled": true
   },
   "outputs": [
    {
     "name": "stdout",
     "output_type": "stream",
     "text": [
      "m a k i n e   ö ğ r e n m e s i "
     ]
    }
   ],
   "source": [
    "for i in range(len(ders_adi)):\n",
    "    print(ders_adi[i],end=\" \")"
   ]
  },
  {
   "cell_type": "code",
   "execution_count": 30,
   "metadata": {
    "scrolled": false
   },
   "outputs": [
    {
     "name": "stdout",
     "output_type": "stream",
     "text": [
      "16\n"
     ]
    }
   ],
   "source": [
    "sayac=0\n",
    "for harf in ders_adi:\n",
    "    sayac+=1\n",
    "print(sayac)"
   ]
  },
  {
   "cell_type": "markdown",
   "metadata": {},
   "source": [
    "### list\n",
    "diğer programlama dillerindeki dizilerin benzeridir. köşeli parantez ile tanımlanır. indis numarası 0dan başlar ve indis numarası ile istenen elemana ulaşır.\n"
   ]
  },
  {
   "cell_type": "code",
   "execution_count": 33,
   "metadata": {},
   "outputs": [
    {
     "data": {
      "text/plain": [
       "[1, 2, ['ali', 'can'], 'selam', 3.14]"
      ]
     },
     "execution_count": 33,
     "metadata": {},
     "output_type": "execute_result"
    }
   ],
   "source": [
    "liste=[]\n",
    "liste2=[1,2,[\"ali\",\"can\"],\"selam\",3.14] #farklı veri tipleri kulanılabilir.\n",
    "liste2"
   ]
  },
  {
   "cell_type": "code",
   "execution_count": 41,
   "metadata": {},
   "outputs": [
    {
     "data": {
      "text/plain": [
       "5"
      ]
     },
     "execution_count": 41,
     "metadata": {},
     "output_type": "execute_result"
    }
   ],
   "source": [
    "\n",
    "liste2[2][0][1]\n",
    "liste2[0:2]\n",
    "liste2[-1]\n",
    "liste2[::-1]\n",
    "len(liste2)"
   ]
  },
  {
   "cell_type": "markdown",
   "metadata": {},
   "source": [
    "append ve extend ile listeye eleman eklenir."
   ]
  },
  {
   "cell_type": "code",
   "execution_count": 43,
   "metadata": {},
   "outputs": [
    {
     "name": "stdout",
     "output_type": "stream",
     "text": [
      "[1, 2, 3, [4, 5, 6]]\n",
      "[1, 2, 3, 4, 5, 6]\n"
     ]
    }
   ],
   "source": [
    "list1=[1,2,3]\n",
    "list2=[4,5,6]\n",
    "list1.append(list2)\n",
    "print(list1)\n",
    "\n",
    "list1=[1,2,3]\n",
    "list2=[4,5,6]\n",
    "list1.extend(list2)\n",
    "print(list1)"
   ]
  },
  {
   "cell_type": "markdown",
   "metadata": {},
   "source": [
    "### tuple\n",
    " listelere çok benzeyen kapsayıcı veri tipleridir. parantez ile tanımlanırlar. \n",
    " listler -> mutable ,tuple->immutable"
   ]
  },
  {
   "cell_type": "code",
   "execution_count": 45,
   "metadata": {},
   "outputs": [
    {
     "data": {
      "text/plain": [
       "'b'"
      ]
     },
     "execution_count": 45,
     "metadata": {},
     "output_type": "execute_result"
    }
   ],
   "source": [
    "demet=()\n",
    "demet2=(1,2,\"a\",\"b\")\n",
    "demet2[-1] #öğelere erişim listelerdeki gibi yapılmaktadır."
   ]
  },
  {
   "cell_type": "markdown",
   "metadata": {},
   "source": [
    "### dict\n",
    "blok parantez süslü parantez kullanırlar {}. indis (key) ve value birlikte tanımlamaya yarayan kapsayıcı veri tipleridir."
   ]
  },
  {
   "cell_type": "code",
   "execution_count": 46,
   "metadata": {},
   "outputs": [
    {
     "name": "stdout",
     "output_type": "stream",
     "text": [
      "book\n"
     ]
    }
   ],
   "source": [
    "sozluk={\"kitap\":\"book\",\"defter\":\"notebook\"}\n",
    "print(sozluk[\"kitap\"])"
   ]
  },
  {
   "cell_type": "code",
   "execution_count": 50,
   "metadata": {},
   "outputs": [
    {
     "name": "stdout",
     "output_type": "stream",
     "text": [
      "kitap\n",
      "defter\n",
      "book\n",
      "notebook\n"
     ]
    }
   ],
   "source": [
    "for i in sozluk:#tüm keyleri yazdırma\n",
    "    print(i)\n",
    "    \n",
    "for i in sozluk:#tüm valueları yazdırma\n",
    "    print(sozluk[i])"
   ]
  },
  {
   "cell_type": "code",
   "execution_count": 52,
   "metadata": {},
   "outputs": [
    {
     "data": {
      "text/plain": [
       "{'kitap': 'book', 'defter': 'notebook', 'kalem': 'pen'}"
      ]
     },
     "execution_count": 52,
     "metadata": {},
     "output_type": "execute_result"
    }
   ],
   "source": [
    "sozluk[\"kalem\"]=\"pen\"\n",
    "sozluk"
   ]
  },
  {
   "cell_type": "code",
   "execution_count": 54,
   "metadata": {},
   "outputs": [
    {
     "data": {
      "text/plain": [
       "{'kitap': 'book', 'defter': 'notebook', 'kalem': 'pencil'}"
      ]
     },
     "execution_count": 54,
     "metadata": {},
     "output_type": "execute_result"
    }
   ],
   "source": [
    "sozluk[\"kalem\"]=\"pencil\"\n",
    "sozluk"
   ]
  },
  {
   "cell_type": "markdown",
   "metadata": {},
   "source": [
    ">mutable: listeler, sözlükler--immutable:sayılar,karakter dizileri, demetler"
   ]
  },
  {
   "cell_type": "markdown",
   "metadata": {},
   "source": [
    ">sözlük oluştururken value için istenen veri tipi kullanılabilir.ancak keyler için immutable olması gerekir."
   ]
  },
  {
   "cell_type": "markdown",
   "metadata": {},
   "source": [
    "### fonksiyonlar"
   ]
  },
  {
   "cell_type": "markdown",
   "metadata": {},
   "source": [
    "* her fonksiyonun bir adı vardır ve bununla çağırılırlar.\n",
    "* yapı olarak hepsinin yanında parametrelerin yazıldığı parantez bulunur.\n",
    "* farklı sayıda parametre tanımlanabilir, zorunlu değildir.\n",
    "* kullanılabilmesi için mutlaka tanımlanmış olması gerekir.\n",
    "* def ifadesi ile tanımlanır\n",
    "* afonksiyon adları için değişken kuralları geçerlidir.\n",
    "* return ifadesi ile sonuç veya sonuçlar döndürülebilir."
   ]
  },
  {
   "cell_type": "code",
   "execution_count": 55,
   "metadata": {},
   "outputs": [
    {
     "name": "stdout",
     "output_type": "stream",
     "text": [
      "selam\n"
     ]
    }
   ],
   "source": [
    "def selam_yazdir():\n",
    "    print(\"selam\")\n",
    "\n",
    "selam_yazdir()"
   ]
  },
  {
   "cell_type": "code",
   "execution_count": 57,
   "metadata": {},
   "outputs": [
    {
     "name": "stdout",
     "output_type": "stream",
     "text": [
      "24\n"
     ]
    }
   ],
   "source": [
    "#verilen metnin uzunluğunu bulan fonksiyon\n",
    "def uzunluk(metin):\n",
    "    return len (metin)\n",
    "\n",
    "\n",
    "text=\"bu bir deneme sürümüdür.\"\n",
    "print(uzunluk(text))"
   ]
  },
  {
   "cell_type": "code",
   "execution_count": 60,
   "metadata": {},
   "outputs": [
    {
     "name": "stdout",
     "output_type": "stream",
     "text": [
      "yarıçapı giriniz5\n"
     ]
    },
    {
     "ename": "NameError",
     "evalue": "name 'pi' is not defined",
     "output_type": "error",
     "traceback": [
      "\u001b[1;31m---------------------------------------------------------------------------\u001b[0m",
      "\u001b[1;31mNameError\u001b[0m                                 Traceback (most recent call last)",
      "\u001b[1;32m<ipython-input-60-302834deda78>\u001b[0m in \u001b[0;36m<module>\u001b[1;34m\u001b[0m\n\u001b[0;32m     15\u001b[0m \u001b[1;33m\u001b[0m\u001b[0m\n\u001b[0;32m     16\u001b[0m \u001b[1;33m\u001b[0m\u001b[0m\n\u001b[1;32m---> 17\u001b[1;33m \u001b[0malan\u001b[0m\u001b[1;33m(\u001b[0m\u001b[1;33m)\u001b[0m\u001b[1;33m\u001b[0m\u001b[1;33m\u001b[0m\u001b[0m\n\u001b[0m\u001b[0;32m     18\u001b[0m \u001b[0mcevre\u001b[0m\u001b[1;33m(\u001b[0m\u001b[1;33m)\u001b[0m\u001b[1;33m\u001b[0m\u001b[1;33m\u001b[0m\u001b[0m\n\u001b[0;32m     19\u001b[0m \u001b[0mhacim\u001b[0m\u001b[1;33m(\u001b[0m\u001b[1;33m)\u001b[0m\u001b[1;33m\u001b[0m\u001b[1;33m\u001b[0m\u001b[0m\n",
      "\u001b[1;32m<ipython-input-60-302834deda78>\u001b[0m in \u001b[0;36malan\u001b[1;34m()\u001b[0m\n\u001b[0;32m      6\u001b[0m \u001b[1;33m\u001b[0m\u001b[0m\n\u001b[0;32m      7\u001b[0m \u001b[1;32mdef\u001b[0m \u001b[0malan\u001b[0m\u001b[1;33m(\u001b[0m\u001b[1;33m)\u001b[0m\u001b[1;33m:\u001b[0m\u001b[1;33m\u001b[0m\u001b[1;33m\u001b[0m\u001b[0m\n\u001b[1;32m----> 8\u001b[1;33m     \u001b[0malan\u001b[0m\u001b[1;33m=\u001b[0m\u001b[0mpi\u001b[0m\u001b[1;33m*\u001b[0m\u001b[0mr\u001b[0m\u001b[1;33m**\u001b[0m\u001b[1;36m2\u001b[0m\u001b[1;33m\u001b[0m\u001b[1;33m\u001b[0m\u001b[0m\n\u001b[0m\u001b[0;32m      9\u001b[0m \u001b[1;33m\u001b[0m\u001b[0m\n\u001b[0;32m     10\u001b[0m \u001b[1;32mdef\u001b[0m \u001b[0mcevre\u001b[0m\u001b[1;33m(\u001b[0m\u001b[0mcember\u001b[0m\u001b[1;33m)\u001b[0m\u001b[1;33m:\u001b[0m\u001b[1;33m\u001b[0m\u001b[1;33m\u001b[0m\u001b[0m\n",
      "\u001b[1;31mNameError\u001b[0m: name 'pi' is not defined"
     ]
    }
   ],
   "source": [
    "import math\n",
    "\n",
    "math.pi\n",
    "\n",
    "r=int(input(\"yarıçapı giriniz\"))\n",
    "\n",
    "def alan():\n",
    "    alan=pi*r**2\n",
    "    \n",
    "def cevre(cember):\n",
    "    cember=pi*2*r\n",
    "    \n",
    "def hacim(kure):\n",
    "    kure=4/3*pi*r**3\n",
    "    \n",
    "    \n",
    "alan()\n",
    "cevre()\n",
    "hacim()"
   ]
  },
  {
   "cell_type": "code",
   "execution_count": 61,
   "metadata": {},
   "outputs": [
    {
     "name": "stdout",
     "output_type": "stream",
     "text": [
      "78.53981633974483 31.41592653589793 523.5987755982989\n"
     ]
    }
   ],
   "source": [
    "import math\n",
    "\n",
    "def hesapla(r):\n",
    "    cevre=2*math.pi*r\n",
    "    alan=math.pi*r**2\n",
    "    hacim=4/3*math.pi*r**3\n",
    "    return cevre,alan,hacim\n",
    "\n",
    "\n",
    "r=5\n",
    "gelencevre,gelenalan,gelenhacim=hesapla(r)\n",
    "\n",
    "print(gelenalan,gelencevre,gelenhacim)"
   ]
  },
  {
   "cell_type": "code",
   "execution_count": 64,
   "metadata": {},
   "outputs": [
    {
     "name": "stdout",
     "output_type": "stream",
     "text": [
      "46.57252408878007\n"
     ]
    }
   ],
   "source": [
    "#verilen iki nokta arasındaki uzaklık\n",
    "a=[57,46]\n",
    "b=[12,34]\n",
    "\n",
    "def uzaklıkhesapla(p1,p2):\n",
    "    mesafe=((p1[0]-p2[0])**2+(p1[1]-p2[1])**2)**0.5\n",
    "    return mesafe\n",
    "mesafe=uzaklıkhesapla(a,b)\n",
    "\n",
    "\n",
    "\n",
    "print(mesafe)"
   ]
  },
  {
   "cell_type": "markdown",
   "metadata": {},
   "source": [
    "# hafta 3 veri seçimi ve görselleştirme\n",
    "* numpy\n",
    "* pandas\n",
    "* matplotlib"
   ]
  },
  {
   "cell_type": "markdown",
   "metadata": {},
   "source": [
    "## numpy\n",
    "matematiksel işlemler için yazılmış bir modüldür. (numercal python)\n",
    "liselerden farklı olarak her elemanın aynı türde olduğu sayısal dizilerdir. "
   ]
  },
  {
   "cell_type": "markdown",
   "metadata": {},
   "source": [
    "### tanımlama\n",
    "kulanabilmek için import edilmesi gerekir."
   ]
  },
  {
   "cell_type": "code",
   "execution_count": 1,
   "metadata": {},
   "outputs": [],
   "source": [
    "import numpy as np"
   ]
  },
  {
   "cell_type": "code",
   "execution_count": 5,
   "metadata": {},
   "outputs": [
    {
     "data": {
      "text/plain": [
       "numpy.ndarray"
      ]
     },
     "execution_count": 5,
     "metadata": {},
     "output_type": "execute_result"
    }
   ],
   "source": [
    "np_dizi=np.array([1,2,3,4,5,6])\n",
    "np_dizi\n",
    "type(np_dizi)"
   ]
  },
  {
   "cell_type": "code",
   "execution_count": 6,
   "metadata": {},
   "outputs": [],
   "source": [
    "np_dizi=np.array([1,2,3,4,5,6,7,8,9,10,11,12,13,14,15])\n"
   ]
  },
  {
   "cell_type": "markdown",
   "metadata": {},
   "source": [
    "shape ile dizi yapısına bakılabilir"
   ]
  },
  {
   "cell_type": "code",
   "execution_count": 7,
   "metadata": {},
   "outputs": [
    {
     "name": "stdout",
     "output_type": "stream",
     "text": [
      "(15,)\n"
     ]
    }
   ],
   "source": [
    "print(np_dizi.shape)"
   ]
  },
  {
   "cell_type": "markdown",
   "metadata": {},
   "source": [
    "reshape ile yapı yeniden oluşturulabilir."
   ]
  },
  {
   "cell_type": "code",
   "execution_count": 9,
   "metadata": {},
   "outputs": [
    {
     "name": "stdout",
     "output_type": "stream",
     "text": [
      "[[ 1  2  3  4  5]\n",
      " [ 6  7  8  9 10]\n",
      " [11 12 13 14 15]]\n",
      "shape: (3, 5)\n"
     ]
    }
   ],
   "source": [
    "a=np_dizi.reshape(3,5)#3satırlı 5 sütunlu bir matris \n",
    "print(a)\n",
    "print(\"shape:\",a.shape)"
   ]
  },
  {
   "cell_type": "markdown",
   "metadata": {},
   "source": [
    "ndim ile dizinin boyutuna bakılabilir"
   ]
  },
  {
   "cell_type": "code",
   "execution_count": 10,
   "metadata": {},
   "outputs": [
    {
     "name": "stdout",
     "output_type": "stream",
     "text": [
      "diamension:0: 2\n",
      "datatype: int32\n"
     ]
    }
   ],
   "source": [
    "print(\"diamension:0:\",a.ndim)\n",
    "print(\"datatype:\",a.dtype)"
   ]
  },
  {
   "cell_type": "code",
   "execution_count": null,
   "metadata": {},
   "outputs": [],
   "source": []
  },
  {
   "cell_type": "code",
   "execution_count": 11,
   "metadata": {},
   "outputs": [
    {
     "data": {
      "text/plain": [
       "1"
      ]
     },
     "execution_count": 11,
     "metadata": {},
     "output_type": "execute_result"
    }
   ],
   "source": [
    "np_dizi.ndim"
   ]
  },
  {
   "cell_type": "code",
   "execution_count": null,
   "metadata": {},
   "outputs": [],
   "source": []
  },
  {
   "cell_type": "raw",
   "metadata": {},
   "source": [
    "veri sayısını öğrenmek için size kullanılır"
   ]
  },
  {
   "cell_type": "code",
   "execution_count": 14,
   "metadata": {},
   "outputs": [
    {
     "name": "stdout",
     "output_type": "stream",
     "text": [
      "3\n",
      "size: 15\n"
     ]
    }
   ],
   "source": [
    "print(len(a))\n",
    "print(\"size:\",a.size)"
   ]
  },
  {
   "cell_type": "code",
   "execution_count": 15,
   "metadata": {},
   "outputs": [
    {
     "name": "stdout",
     "output_type": "stream",
     "text": [
      "[[1 2 3 4]\n",
      " [5 6 7 8]]\n"
     ]
    }
   ],
   "source": [
    "array1=np.array([[1,2,3,4],[5,6,7,8]])\n",
    "print(array1)"
   ]
  },
  {
   "cell_type": "markdown",
   "metadata": {},
   "source": [
    "uzun listelerde append ile veri eklemek yerine bellekte yer ayırtma kullanılabilir."
   ]
  },
  {
   "cell_type": "code",
   "execution_count": 20,
   "metadata": {},
   "outputs": [
    {
     "data": {
      "text/plain": [
       "array([[5., 0., 0., 0.],\n",
       "       [0., 0., 0., 0.],\n",
       "       [0., 0., 0., 0.]])"
      ]
     },
     "execution_count": 20,
     "metadata": {},
     "output_type": "execute_result"
    }
   ],
   "source": [
    "bosNp=np.zeros((3,4))\n",
    "bosNp[0,0]=5\n",
    "bosNp\n"
   ]
  },
  {
   "cell_type": "code",
   "execution_count": 21,
   "metadata": {},
   "outputs": [
    {
     "data": {
      "text/plain": [
       "array([[1., 1., 1.],\n",
       "       [1., 1., 1.]])"
      ]
     },
     "execution_count": 21,
     "metadata": {},
     "output_type": "execute_result"
    }
   ],
   "source": [
    "    np.ones((2,3)) # sıfır yerine bir kullanır"
   ]
  },
  {
   "cell_type": "code",
   "execution_count": 22,
   "metadata": {},
   "outputs": [
    {
     "data": {
      "text/plain": [
       "array([[0.00000000e+000, 0.00000000e+000, 0.00000000e+000,\n",
       "        0.00000000e+000],\n",
       "       [0.00000000e+000, 6.62047965e-321, 1.05699242e-307,\n",
       "        8.01097888e-307]])"
      ]
     },
     "execution_count": 22,
     "metadata": {},
     "output_type": "execute_result"
    }
   ],
   "source": [
    "np.empty((2,4))"
   ]
  },
  {
   "cell_type": "markdown",
   "metadata": {},
   "source": [
    "belirlenen aralıkta dizi oluşturmak için arrange ve linspace kullanılır."
   ]
  },
  {
   "cell_type": "code",
   "execution_count": 26,
   "metadata": {},
   "outputs": [
    {
     "data": {
      "text/plain": [
       "array([10.  , 13.14, 16.28, 19.42, 22.56, 25.7 , 28.84, 31.98, 35.12,\n",
       "       38.26, 41.4 , 44.54, 47.68, 50.82])"
      ]
     },
     "execution_count": 26,
     "metadata": {},
     "output_type": "execute_result"
    }
   ],
   "source": [
    "b=np.arange(10,51,5) # ilk parametre dahil ikinci parametre dahil değil üçünvü paraametre kadar artar.\n",
    "c=np.arange(10,51,3.14)\n",
    "c"
   ]
  },
  {
   "cell_type": "code",
   "execution_count": 29,
   "metadata": {},
   "outputs": [
    {
     "name": "stdout",
     "output_type": "stream",
     "text": [
      "[10.         12.14285714 14.28571429 16.42857143 18.57142857 20.71428571\n",
      " 22.85714286 25.         27.14285714 29.28571429 31.42857143 33.57142857\n",
      " 35.71428571 37.85714286 40.        ]\n",
      "15\n",
      "1\n",
      "(15,)\n"
     ]
    }
   ],
   "source": [
    "d=np.linspace(10,40,15) # belirlenen aralıkta birinci ve ikinci paramere dahil 3.parametre kadar eşit aralıklı sayı oluşturur.\n",
    "d\n",
    "print(d)\n",
    "print(d.size)\n",
    "print(d.ndim)\n",
    "print(d.shape)"
   ]
  },
  {
   "cell_type": "markdown",
   "metadata": {},
   "source": [
    "### basit işlemler\n",
    "işlem yapılırken olabildiğince dizilerin benzer yapıda olmasına özen gösterilir."
   ]
  },
  {
   "cell_type": "code",
   "execution_count": 30,
   "metadata": {},
   "outputs": [],
   "source": [
    "a=np.array([1,2,3])\n",
    "b=np.array([4,5,6])\n"
   ]
  },
  {
   "cell_type": "code",
   "execution_count": 32,
   "metadata": {},
   "outputs": [
    {
     "name": "stdout",
     "output_type": "stream",
     "text": [
      "[5 7 9]\n",
      "[-3 -3 -3]\n",
      "[1 4 9]\n"
     ]
    }
   ],
   "source": [
    "print(a+b)\n",
    "print(a-b)\n",
    "print(a**2)"
   ]
  },
  {
   "cell_type": "code",
   "execution_count": 33,
   "metadata": {},
   "outputs": [
    {
     "name": "stdout",
     "output_type": "stream",
     "text": [
      "[0.84147098 0.90929743 0.14112001]\n"
     ]
    }
   ],
   "source": [
    "print(np.sin(a))"
   ]
  },
  {
   "cell_type": "code",
   "execution_count": 34,
   "metadata": {},
   "outputs": [
    {
     "name": "stdout",
     "output_type": "stream",
     "text": [
      "[ 4 10 18]\n"
     ]
    }
   ],
   "source": [
    "print(a*b)"
   ]
  },
  {
   "cell_type": "code",
   "execution_count": 36,
   "metadata": {},
   "outputs": [
    {
     "name": "stdout",
     "output_type": "stream",
     "text": [
      "[[  5   6   7   8   9]\n",
      " [ 15  20  25  30  35]\n",
      " [ 25  34  43  52  61]\n",
      " [ 35  48  61  74  87]\n",
      " [ 45  62  79  96 113]]\n"
     ]
    }
   ],
   "source": [
    "# dot ile çarpma yapılabilir.\n",
    "aa=np.array([0,1,2,3,4,5,6,7,8,9])\n",
    "a1=aa.reshape(5,2)\n",
    "a2=aa.reshape(2,5)\n",
    "c=np.dot(a1,a2)\n",
    "print(c)"
   ]
  },
  {
   "cell_type": "code",
   "execution_count": 37,
   "metadata": {},
   "outputs": [
    {
     "name": "stdout",
     "output_type": "stream",
     "text": [
      "[[ True  True  True  True  True]\n",
      " [ True  True  True  True  True]\n",
      " [ True  True  True False False]\n",
      " [ True  True False False False]\n",
      " [ True False False False False]]\n"
     ]
    }
   ],
   "source": [
    "print(c<50\n",
    "     )"
   ]
  },
  {
   "cell_type": "code",
   "execution_count": 40,
   "metadata": {},
   "outputs": [
    {
     "name": "stdout",
     "output_type": "stream",
     "text": [
      "[ 5  6  7  8  9 15 20 25 30 35 25 34 43 35 48 45]\n"
     ]
    }
   ],
   "source": [
    "print(c[c<50]) # filtreleme yapılablir."
   ]
  },
  {
   "cell_type": "code",
   "execution_count": 42,
   "metadata": {},
   "outputs": [
    {
     "name": "stdout",
     "output_type": "stream",
     "text": [
      "[[  5  15  25  35  45]\n",
      " [  6  20  34  48  62]\n",
      " [  7  25  43  61  79]\n",
      " [  8  30  52  74  96]\n",
      " [  9  35  61  87 113]]\n"
     ]
    }
   ],
   "source": [
    "# tile transpoz alınabilir\n",
    "\n",
    "ct=c.T\n",
    "print(ct)"
   ]
  },
  {
   "cell_type": "code",
   "execution_count": 43,
   "metadata": {},
   "outputs": [
    {
     "name": "stdout",
     "output_type": "stream",
     "text": [
      "5\n",
      "113\n",
      "1075\n",
      "[125 170 215 260 305]\n",
      "[ 35 125 215 305 395]\n"
     ]
    }
   ],
   "source": [
    "# min, max, ve sum kullanımı\n",
    "print(c.min())\n",
    "print(c.max())\n",
    "print(c.sum())\n",
    "print(c.sum(axis=0))#satırların toplamı\n",
    "print(c.sum(axis=1))#sütunların toplamı"
   ]
  },
  {
   "cell_type": "code",
   "execution_count": 46,
   "metadata": {},
   "outputs": [
    {
     "name": "stdout",
     "output_type": "stream",
     "text": [
      "43.0\n",
      "29.563490998188964\n",
      "35.0\n"
     ]
    }
   ],
   "source": [
    "# mean, median, ve standart sapma\n",
    "print(c.mean())\n",
    "print(c.std())\n",
    "print(np.median(c))"
   ]
  },
  {
   "cell_type": "markdown",
   "metadata": {},
   "source": [
    "### indeksleme ve bölütleme(slicing)\n",
    "listelerde olduğu gibi indeks buradada sıfırdan başlar"
   ]
  },
  {
   "cell_type": "code",
   "execution_count": 47,
   "metadata": {},
   "outputs": [
    {
     "name": "stdout",
     "output_type": "stream",
     "text": [
      "0\n",
      "[0 1 2 3]\n"
     ]
    }
   ],
   "source": [
    "a=np.array([0,1,2,3,4,5,6,7])\n",
    "print(a[0])\n",
    "print(a[0:4])"
   ]
  },
  {
   "cell_type": "code",
   "execution_count": 48,
   "metadata": {},
   "outputs": [
    {
     "name": "stdout",
     "output_type": "stream",
     "text": [
      "[7 6 5 4 3 2 1 0]\n"
     ]
    }
   ],
   "source": [
    "teraA=a[::-1]\n",
    "print(teraA)"
   ]
  },
  {
   "cell_type": "code",
   "execution_count": 49,
   "metadata": {},
   "outputs": [
    {
     "name": "stdout",
     "output_type": "stream",
     "text": [
      "[[ 1  2  3  4  5]\n",
      " [ 6  7  8  9 10]]\n"
     ]
    }
   ],
   "source": [
    "a1=np.array([[1,2,3,4,5],[6,7,8,9,10]])\n",
    "print(a1)"
   ]
  },
  {
   "cell_type": "code",
   "execution_count": 50,
   "metadata": {},
   "outputs": [
    {
     "name": "stdout",
     "output_type": "stream",
     "text": [
      "8\n"
     ]
    }
   ],
   "source": [
    "print(a1[1,2])"
   ]
  },
  {
   "cell_type": "markdown",
   "metadata": {},
   "source": [
    "satır ve sütun indeksleri sıfırdan başlar virgülün solundaki satırları,solundaki sütunları belirtir."
   ]
  },
  {
   "cell_type": "code",
   "execution_count": 52,
   "metadata": {},
   "outputs": [
    {
     "name": "stdout",
     "output_type": "stream",
     "text": [
      "[3 8]\n"
     ]
    }
   ],
   "source": [
    "print(a1[:,2]) #satırların tamamını alırken belirli bir sütun aldık"
   ]
  },
  {
   "cell_type": "code",
   "execution_count": 58,
   "metadata": {},
   "outputs": [
    {
     "name": "stdout",
     "output_type": "stream",
     "text": [
      "[[2 3 4]\n",
      " [7 8 9]]\n",
      "[[3 4]\n",
      " [8 9]]\n"
     ]
    }
   ],
   "source": [
    "print(a1[:,1:4])\n",
    "print(a1[0:2,2:4])"
   ]
  },
  {
   "cell_type": "code",
   "execution_count": 60,
   "metadata": {},
   "outputs": [
    {
     "name": "stdout",
     "output_type": "stream",
     "text": [
      "[ 6  7  8  9 10]\n",
      "[ 5 10]\n"
     ]
    }
   ],
   "source": [
    "print(a1[-1,:])# son satırın tamamı\n",
    "print(a1[:,-1])#son sütunun tamamı"
   ]
  },
  {
   "cell_type": "markdown",
   "metadata": {},
   "source": [
    "### yapı değiştirmek (shape manupilatıon)"
   ]
  },
  {
   "cell_type": "code",
   "execution_count": 61,
   "metadata": {},
   "outputs": [
    {
     "name": "stdout",
     "output_type": "stream",
     "text": [
      "[[1 2 3]\n",
      " [4 5 6]\n",
      " [7 8 9]]\n",
      "2\n",
      "(3, 3)\n"
     ]
    }
   ],
   "source": [
    "array=np.array([[1,2,3],[4,5,6],[7,8,9]])\n",
    "print(array)\n",
    "print(array.ndim)\n",
    "print(array.shape)"
   ]
  },
  {
   "cell_type": "code",
   "execution_count": 62,
   "metadata": {},
   "outputs": [
    {
     "name": "stdout",
     "output_type": "stream",
     "text": [
      "[1 2 3 4 5 6 7 8 9]\n"
     ]
    }
   ],
   "source": [
    "a=array.ravel()\n",
    "print(a)"
   ]
  },
  {
   "cell_type": "code",
   "execution_count": 64,
   "metadata": {},
   "outputs": [
    {
     "data": {
      "text/plain": [
       "array([[1, 2, 3],\n",
       "       [4, 5, 6],\n",
       "       [7, 8, 9]])"
      ]
     },
     "execution_count": 64,
     "metadata": {},
     "output_type": "execute_result"
    }
   ],
   "source": [
    "b=a.reshape(3,3)\n",
    "b"
   ]
  },
  {
   "cell_type": "markdown",
   "metadata": {},
   "source": [
    "## pandas"
   ]
  },
  {
   "cell_type": "markdown",
   "metadata": {},
   "source": [
    "* dataframeler için etkili ve hızlıdır.\n",
    "* csv ve txt dosyaları dahil birçok dosyaya kolay okuma-yazma yapabilir.\n",
    "* kayıp veriler için kolay yöntemler sunar.\n",
    "* veriyi kolayca reshape yapıp kullanmayı sağlar.\n",
    "* bölütleme ve indeksleme kolaydır.\n",
    "* zaman serisi analizlerinde yardımcı olur.\n",
    "* hız açısından optimize edilmiştir."
   ]
  },
  {
   "cell_type": "markdown",
   "metadata": {},
   "source": [
    "### tanımlama"
   ]
  },
  {
   "cell_type": "code",
   "execution_count": 65,
   "metadata": {},
   "outputs": [],
   "source": [
    "import pandas as pd"
   ]
  },
  {
   "cell_type": "code",
   "execution_count": 66,
   "metadata": {},
   "outputs": [
    {
     "name": "stdout",
     "output_type": "stream",
     "text": [
      "{'ad': ['ali', 'veli', 'can', 'canan', 'ayla', 'ayşe'], 'yas': [18, 19, 20, 33, 45, 50], 'maas': [3000, 3200, 4300, 5400, 6600, 7000]}\n"
     ]
    }
   ],
   "source": [
    "sozluk={\"ad\":[\"ali\",\"veli\",\"can\",\"canan\",\"ayla\",\"ayşe\"],\n",
    "       \"yas\":[18,19,20,33,45,50],\n",
    "       \"maas\":[3000,3200,4300,5400,6600,7000]}\n",
    "print(sozluk)"
   ]
  },
  {
   "cell_type": "code",
   "execution_count": 67,
   "metadata": {},
   "outputs": [
    {
     "name": "stdout",
     "output_type": "stream",
     "text": [
      "      ad  yas  maas\n",
      "0    ali   18  3000\n",
      "1   veli   19  3200\n",
      "2    can   20  4300\n",
      "3  canan   33  5400\n",
      "4   ayla   45  6600\n",
      "5   ayşe   50  7000\n"
     ]
    }
   ],
   "source": [
    "df1=pd.DataFrame(sozluk)\n",
    "print(df1)"
   ]
  },
  {
   "cell_type": "code",
   "execution_count": 71,
   "metadata": {},
   "outputs": [
    {
     "name": "stdout",
     "output_type": "stream",
     "text": [
      "      ad  yas  maas\n",
      "0    ali   18  3000\n",
      "1   veli   19  3200\n",
      "2    can   20  4300\n",
      "3  canan   33  5400\n",
      "4   ayla   45  6600\n",
      "      ad  yas  maas\n",
      "1   veli   19  3200\n",
      "2    can   20  4300\n",
      "3  canan   33  5400\n",
      "4   ayla   45  6600\n",
      "5   ayşe   50  7000\n"
     ]
    }
   ],
   "source": [
    "bas=df1.head()#parametre verilmezse baştan 5 satır verir.\n",
    "print(bas)\n",
    "kuyruk=df1.tail()#parametre verilmezse sondan 5 tane satır verir.\n",
    "#özellikle import edilen veriler için kullanılır.\n",
    "print(kuyruk)\n"
   ]
  },
  {
   "cell_type": "code",
   "execution_count": 72,
   "metadata": {},
   "outputs": [
    {
     "name": "stdout",
     "output_type": "stream",
     "text": [
      "Index(['ad', 'yas', 'maas'], dtype='object')\n"
     ]
    }
   ],
   "source": [
    "#sütun isimlerine erişmek için \n",
    "print(df1.columns)"
   ]
  },
  {
   "cell_type": "code",
   "execution_count": 74,
   "metadata": {},
   "outputs": [
    {
     "name": "stdout",
     "output_type": "stream",
     "text": [
      "<class 'pandas.core.frame.DataFrame'>\n",
      "RangeIndex: 6 entries, 0 to 5\n",
      "Data columns (total 3 columns):\n",
      " #   Column  Non-Null Count  Dtype \n",
      "---  ------  --------------  ----- \n",
      " 0   ad      6 non-null      object\n",
      " 1   yas     6 non-null      int64 \n",
      " 2   maas    6 non-null      int64 \n",
      "dtypes: int64(2), object(1)\n",
      "memory usage: 272.0+ bytes\n",
      "None\n"
     ]
    }
   ],
   "source": [
    "#dataframe hakkında özel bilgi için\n",
    "print(df1.info())"
   ]
  },
  {
   "cell_type": "code",
   "execution_count": 75,
   "metadata": {},
   "outputs": [
    {
     "name": "stdout",
     "output_type": "stream",
     "text": [
      "ad      object\n",
      "yas      int64\n",
      "maas     int64\n",
      "dtype: object\n"
     ]
    }
   ],
   "source": [
    "#veri tiplerini görmek için\n",
    "print(df1.dtypes)"
   ]
  },
  {
   "cell_type": "code",
   "execution_count": 77,
   "metadata": {},
   "outputs": [
    {
     "name": "stdout",
     "output_type": "stream",
     "text": [
      "             yas         maas\n",
      "count   6.000000     6.000000\n",
      "mean   30.833333  4916.666667\n",
      "std    14.105554  1697.547250\n",
      "min    18.000000  3000.000000\n",
      "25%    19.250000  3475.000000\n",
      "50%    26.500000  4850.000000\n",
      "75%    42.000000  6300.000000\n",
      "max    50.000000  7000.000000\n"
     ]
    }
   ],
   "source": [
    "#df hakkında sayısal bilgiler verir sayı olan sütunlar için geçerlidir.\n",
    "print(df1.describe())"
   ]
  },
  {
   "cell_type": "code",
   "execution_count": 78,
   "metadata": {},
   "outputs": [
    {
     "name": "stdout",
     "output_type": "stream",
     "text": [
      "      ad  yas  maas  yeni sütun\n",
      "0    ali   18  3000          -1\n",
      "1   veli   19  3200          -2\n",
      "2    can   20  4300          -3\n",
      "3  canan   33  5400          -4\n",
      "4   ayla   45  6600          -5\n",
      "5   ayşe   50  7000          -6\n"
     ]
    }
   ],
   "source": [
    "#yeni sütun oluşturmak \n",
    "df1[\"yeni sütun\"]=[-1,-2,-3,-4,-5,-6]\n",
    "print(df1)"
   ]
  },
  {
   "cell_type": "markdown",
   "metadata": {},
   "source": [
    "### indeksleme ve bölütleme"
   ]
  },
  {
   "cell_type": "code",
   "execution_count": 80,
   "metadata": {},
   "outputs": [
    {
     "name": "stdout",
     "output_type": "stream",
     "text": [
      "0      ali\n",
      "1     veli\n",
      "2      can\n",
      "3    canan\n",
      "4     ayla\n",
      "5     ayşe\n",
      "Name: ad, dtype: object\n",
      "0      ali\n",
      "1     veli\n",
      "2      can\n",
      "3    canan\n",
      "4     ayla\n",
      "5     ayşe\n",
      "Name: ad, dtype: object\n"
     ]
    }
   ],
   "source": [
    "print(df1[\"ad\"])\n",
    "print(df1.ad)"
   ]
  },
  {
   "cell_type": "code",
   "execution_count": 81,
   "metadata": {},
   "outputs": [
    {
     "name": "stdout",
     "output_type": "stream",
     "text": [
      "0    18\n",
      "1    19\n",
      "2    20\n",
      "3    33\n",
      "4    45\n",
      "5    50\n",
      "Name: yas, dtype: int64\n"
     ]
    }
   ],
   "source": [
    "#loc df içiden veri almak için kullanılır npdeki gibi virgül solu satır sağı sütundur\n",
    "print(df1.loc[:,\"yas\"])"
   ]
  },
  {
   "cell_type": "code",
   "execution_count": 83,
   "metadata": {},
   "outputs": [
    {
     "name": "stdout",
     "output_type": "stream",
     "text": [
      "0      ali\n",
      "1     veli\n",
      "2      can\n",
      "3    canan\n",
      "Name: ad, dtype: object\n"
     ]
    }
   ],
   "source": [
    "#0dan 3e kadar yazırmak için aralık[0,3]--np listede[0,3)\n",
    "print(df1.loc[:3,\"ad\"])\n"
   ]
  },
  {
   "cell_type": "code",
   "execution_count": 85,
   "metadata": {},
   "outputs": [
    {
     "name": "stdout",
     "output_type": "stream",
     "text": [
      "      ad  yas  maas\n",
      "0    ali   18  3000\n",
      "1   veli   19  3200\n",
      "2    can   20  4300\n",
      "3  canan   33  5400\n"
     ]
    }
   ],
   "source": [
    "print(df1.loc[:3,\"ad\":\"maas\"])"
   ]
  },
  {
   "cell_type": "code",
   "execution_count": 87,
   "metadata": {},
   "outputs": [
    {
     "name": "stdout",
     "output_type": "stream",
     "text": [
      "      ad  yas  maas\n",
      "0    ali   18  3000\n",
      "1   veli   19  3200\n",
      "2    can   20  4300\n",
      "3  canan   33  5400\n"
     ]
    }
   ],
   "source": [
    "#aralık olmadan sadece istenilenleri almak için\n",
    "print(df1.loc[0:3,\"ad\":\"maas\"])"
   ]
  },
  {
   "cell_type": "code",
   "execution_count": 88,
   "metadata": {},
   "outputs": [
    {
     "name": "stdout",
     "output_type": "stream",
     "text": [
      "      ad  yas  maas  yeni sütun\n",
      "5   ayşe   50  7000          -6\n",
      "4   ayla   45  6600          -5\n",
      "3  canan   33  5400          -4\n",
      "2    can   20  4300          -3\n",
      "1   veli   19  3200          -2\n",
      "0    ali   18  3000          -1\n"
     ]
    }
   ],
   "source": [
    "print(df1.loc[::-1,:])"
   ]
  },
  {
   "cell_type": "code",
   "execution_count": 90,
   "metadata": {},
   "outputs": [
    {
     "name": "stdout",
     "output_type": "stream",
     "text": [
      "   yeni sütun  maas  yas     ad\n",
      "5          -6  7000   50   ayşe\n",
      "4          -5  6600   45   ayla\n",
      "3          -4  5400   33  canan\n",
      "2          -3  4300   20    can\n",
      "1          -2  3200   19   veli\n",
      "0          -1  3000   18    ali\n"
     ]
    }
   ],
   "source": [
    "#hem satır hem sütun ters yazılır\n",
    "print(df1.loc[::-1,::-1])"
   ]
  },
  {
   "cell_type": "code",
   "execution_count": 92,
   "metadata": {},
   "outputs": [
    {
     "name": "stdout",
     "output_type": "stream",
     "text": [
      "      ad  yas\n",
      "0    ali   18\n",
      "1   veli   19\n",
      "2    can   20\n",
      "3  canan   33\n",
      "4   ayla   45\n",
      "5   ayşe   50\n"
     ]
    }
   ],
   "source": [
    "#baştan belirtilen sütun dahil olmak için\n",
    "print(df1.loc[:,:\"yas\"])"
   ]
  },
  {
   "cell_type": "code",
   "execution_count": 94,
   "metadata": {},
   "outputs": [
    {
     "name": "stdout",
     "output_type": "stream",
     "text": [
      "0    3000\n",
      "1    3200\n",
      "2    4300\n",
      "3    5400\n",
      "4    6600\n",
      "5    7000\n",
      "Name: maas, dtype: int64\n"
     ]
    }
   ],
   "source": [
    "#loc location, iloc ise indeks location olarak kullanılır\n",
    "print(df1.iloc[:,2])"
   ]
  },
  {
   "cell_type": "markdown",
   "metadata": {},
   "source": [
    "### fitreleme"
   ]
  },
  {
   "cell_type": "code",
   "execution_count": 95,
   "metadata": {},
   "outputs": [
    {
     "name": "stdout",
     "output_type": "stream",
     "text": [
      "      ad  yas  maas  yeni sütun\n",
      "3  canan   33  5400          -4\n",
      "4   ayla   45  6600          -5\n",
      "5   ayşe   50  7000          -6\n"
     ]
    }
   ],
   "source": [
    "filtre1=df1.yas>23\n",
    "filrelenmisData=df1[filtre1]\n",
    "print(filrelenmisData)"
   ]
  },
  {
   "cell_type": "code",
   "execution_count": 96,
   "metadata": {},
   "outputs": [
    {
     "name": "stdout",
     "output_type": "stream",
     "text": [
      "     ad  yas  maas  yeni sütun\n",
      "0   ali   18  3000          -1\n",
      "1  veli   19  3200          -2\n",
      "Empty DataFrame\n",
      "Columns: [ad, yas, maas, yeni sütun]\n",
      "Index: []\n",
      "      ad  yas  maas  yeni sütun\n",
      "0    ali   18  3000          -1\n",
      "1   veli   19  3200          -2\n",
      "3  canan   33  5400          -4\n",
      "4   ayla   45  6600          -5\n",
      "5   ayşe   50  7000          -6\n"
     ]
    }
   ],
   "source": [
    "filtre2=df1.maas<4000\n",
    "print(df1[filtre2])\n",
    "print(df1[filtre1 & filtre2])\n",
    "print(df1[filtre1 | filtre2])"
   ]
  },
  {
   "cell_type": "code",
   "execution_count": 97,
   "metadata": {},
   "outputs": [
    {
     "name": "stdout",
     "output_type": "stream",
     "text": [
      "     ad  yas  maas  yeni sütun\n",
      "4  ayla   45  6600          -5\n",
      "5  ayşe   50  7000          -6\n"
     ]
    }
   ],
   "source": [
    "print(df1[df1.yas>40])"
   ]
  },
  {
   "cell_type": "markdown",
   "metadata": {},
   "source": [
    "### liste oluşturucular (list comprehension)"
   ]
  },
  {
   "cell_type": "code",
   "execution_count": 98,
   "metadata": {},
   "outputs": [
    {
     "name": "stdout",
     "output_type": "stream",
     "text": [
      "4916.666666666667\n"
     ]
    }
   ],
   "source": [
    "ortalamaMaas=df1.maas.mean()\n",
    "print(ortalamaMaas)"
   ]
  },
  {
   "cell_type": "code",
   "execution_count": 103,
   "metadata": {},
   "outputs": [],
   "source": [
    "#oralamanın altında maasa sahip olanlara düşük yüksek olanlara yüksek yazdırmak \n",
    "# yapmam gerekenler\n",
    "maasDurum=[]\n",
    "for row in df1[\"maas\"]:\n",
    "    if row<ortalamaMaas:\n",
    "        maasDurum.append(\"düşük\")\n",
    "    else:\n",
    "        maasDurum.append(\"yüksek\")\n",
    "df1[\"maas_durum\"]=maasDurum"
   ]
  },
  {
   "cell_type": "code",
   "execution_count": 104,
   "metadata": {},
   "outputs": [
    {
     "name": "stdout",
     "output_type": "stream",
     "text": [
      "      ad  yas  maas  yeni sütun maas_durum maas_durum2\n",
      "0    ali   18  3000          -1      düşük       düşük\n",
      "1   veli   19  3200          -2      düşük       düşük\n",
      "2    can   20  4300          -3      düşük       düşük\n",
      "3  canan   33  5400          -4     yüksek      yüksek\n",
      "4   ayla   45  6600          -5     yüksek      yüksek\n",
      "5   ayşe   50  7000          -6     yüksek      yüksek\n"
     ]
    }
   ],
   "source": [
    "df1[\"maas_durum2\"]=[\"düşük\" if row<ortalamaMaas else \"yüksek\" for row in df1.maas]\n",
    "print(df1)"
   ]
  },
  {
   "cell_type": "code",
   "execution_count": 108,
   "metadata": {},
   "outputs": [
    {
     "name": "stdout",
     "output_type": "stream",
     "text": [
      "      ad  yas  maas  yeni sütun maas_durum maas_durum2\n",
      "0    ali   18  3000          -1      düşük       düşük\n",
      "1   veli   19  3200          -2      düşük       düşük\n",
      "2    can   20  4300          -3      düşük       düşük\n",
      "3  canan   33  5400          -4     yüksek      yüksek\n",
      "4   ayla   45  6600          -5     yüksek      yüksek\n",
      "5   ayşe   50  7000          -6     yüksek      yüksek\n"
     ]
    }
   ],
   "source": [
    "#tüm sütun isimlerini küçük harf yapımı\n",
    "df1.columns=[col.lower() for col in df1.columns]\n",
    "print(df1)"
   ]
  },
  {
   "cell_type": "markdown",
   "metadata": {},
   "source": [
    "### silme ve birleştirme "
   ]
  },
  {
   "cell_type": "code",
   "execution_count": 1,
   "metadata": {},
   "outputs": [
    {
     "ename": "NameError",
     "evalue": "name 'df1' is not defined",
     "output_type": "error",
     "traceback": [
      "\u001b[1;31m---------------------------------------------------------------------------\u001b[0m",
      "\u001b[1;31mNameError\u001b[0m                                 Traceback (most recent call last)",
      "\u001b[1;32m<ipython-input-1-027a13eae5d5>\u001b[0m in \u001b[0;36m<module>\u001b[1;34m\u001b[0m\n\u001b[0;32m      1\u001b[0m \u001b[1;31m#silmek istenen sütun\u001b[0m\u001b[1;33m\u001b[0m\u001b[1;33m\u001b[0m\u001b[1;33m\u001b[0m\u001b[0m\n\u001b[1;32m----> 2\u001b[1;33m \u001b[0mdf1\u001b[0m\u001b[1;33m.\u001b[0m\u001b[0mdrop\u001b[0m\u001b[1;33m(\u001b[0m\u001b[1;33m[\u001b[0m\u001b[1;34m\"yeni sütun\"\u001b[0m\u001b[1;33m,\u001b[0m\u001b[1;34m\"maas_durum_2\"\u001b[0m\u001b[1;33m]\u001b[0m\u001b[1;33m,\u001b[0m\u001b[0maxis\u001b[0m\u001b[1;33m=\u001b[0m\u001b[1;36m1\u001b[0m\u001b[1;33m,\u001b[0m\u001b[0minplace\u001b[0m\u001b[1;33m=\u001b[0m\u001b[1;32mTrue\u001b[0m\u001b[1;33m)\u001b[0m\u001b[1;33m\u001b[0m\u001b[1;33m\u001b[0m\u001b[0m\n\u001b[0m\u001b[0;32m      3\u001b[0m \u001b[0mprint\u001b[0m\u001b[1;33m(\u001b[0m\u001b[0mdf1\u001b[0m\u001b[1;33m)\u001b[0m\u001b[1;33m\u001b[0m\u001b[1;33m\u001b[0m\u001b[0m\n",
      "\u001b[1;31mNameError\u001b[0m: name 'df1' is not defined"
     ]
    }
   ],
   "source": [
    "#silmek istenen sütun\n",
    "df1.drop([\"yeni sütun\",\"maas_durum_2\"],axis=1,inplace=True)\n",
    "print(df1)"
   ]
  },
  {
   "cell_type": "code",
   "execution_count": 114,
   "metadata": {},
   "outputs": [
    {
     "name": "stdout",
     "output_type": "stream",
     "text": [
      "      ad  yas  maas maas_durum\n",
      "0    ali   18  3000      düşük\n",
      "1   veli   19  3200      düşük\n",
      "2    can   20  4300      düşük\n",
      "3  canan   33  5400     yüksek\n",
      "4   ayla   45  6600     yüksek\n",
      "5   ayşe   50  7000     yüksek\n"
     ]
    }
   ],
   "source": [
    "print(df1)"
   ]
  },
  {
   "cell_type": "code",
   "execution_count": 116,
   "metadata": {},
   "outputs": [],
   "source": [
    "#birleştirme\n",
    "data1=df1.head()\n",
    "data2=df1.tail();\n"
   ]
  },
  {
   "cell_type": "code",
   "execution_count": 119,
   "metadata": {},
   "outputs": [],
   "source": [
    "#vertical alt alt \n",
    "data_v=pd.concat([data1,data2],axis=0)"
   ]
  },
  {
   "cell_type": "code",
   "execution_count": 120,
   "metadata": {},
   "outputs": [
    {
     "name": "stdout",
     "output_type": "stream",
     "text": [
      "      ad  yas  maas maas_durum\n",
      "0    ali   18  3000      düşük\n",
      "1   veli   19  3200      düşük\n",
      "2    can   20  4300      düşük\n",
      "3  canan   33  5400     yüksek\n",
      "4   ayla   45  6600     yüksek\n",
      "1   veli   19  3200      düşük\n",
      "2    can   20  4300      düşük\n",
      "3  canan   33  5400     yüksek\n",
      "4   ayla   45  6600     yüksek\n",
      "5   ayşe   50  7000     yüksek\n"
     ]
    }
   ],
   "source": [
    "print(data_v)"
   ]
  },
  {
   "cell_type": "code",
   "execution_count": 125,
   "metadata": {},
   "outputs": [],
   "source": [
    "## horizontal yan yana\n",
    "maas=df1.maas\n",
    "yas=df1.yas\n",
    "\n"
   ]
  },
  {
   "cell_type": "code",
   "execution_count": 126,
   "metadata": {},
   "outputs": [
    {
     "name": "stdout",
     "output_type": "stream",
     "text": [
      "   maas  yas\n",
      "0  3000   18\n",
      "1  3200   19\n",
      "2  4300   20\n",
      "3  5400   33\n",
      "4  6600   45\n",
      "5  7000   50\n"
     ]
    }
   ],
   "source": [
    "data_h=pd.concat([maas,yas],axis=1)\n",
    "\n",
    "print(data_h)"
   ]
  },
  {
   "cell_type": "markdown",
   "metadata": {},
   "source": [
    "# hafta 3 veri seçimi ve görselleştirme 2"
   ]
  },
  {
   "cell_type": "markdown",
   "metadata": {},
   "source": [
    "## matplotlib\n",
    "görselleştirme için kullanılan numpy uyumlu bir modüldür. özellikle 2b görselleştirmede kullanılır."
   ]
  },
  {
   "cell_type": "code",
   "execution_count": 12,
   "metadata": {},
   "outputs": [
    {
     "data": {
      "image/png": "[encoded data removed]",
      "text/plain": [
       "<Figure size 432x288 with 1 Axes>"
      ]
     },
     "metadata": {
      "needs_background": "light"
     },
     "output_type": "display_data"
    }
   ],
   "source": [
    "import matplotlib.pyplot as plt\n",
    "import numpy as np\n",
    "\n",
    "t=np.arange(0,2,0.01)\n",
    "s=1+np.sin(2*np.pi*t)#y\n",
    "\n",
    "plt.plot(t,s)\n",
    "plt.xlabel(\"times (s)\")\n",
    "plt.ylabel(\"voltage (v)\")\n",
    "plt.title(\"örnek plot\")\n",
    "plt.show()"
   ]
  },
  {
   "cell_type": "code",
   "execution_count": 13,
   "metadata": {},
   "outputs": [
    {
     "data": {
      "image/png": "[encoded data removed]",
      "text/plain": [
       "<Figure size 432x288 with 1 Axes>"
      ]
     },
     "metadata": {
      "needs_background": "light"
     },
     "output_type": "display_data"
    }
   ],
   "source": [
    "import matplotlib.pyplot as plt\n",
    "import numpy as np\n",
    "\n",
    "n=50\n",
    "x=np.random.rand(n)\n",
    "y=np.random.rand(n)\n",
    "plt.scatter(x,y)\n",
    "plt.show()"
   ]
  },
  {
   "cell_type": "code",
   "execution_count": 16,
   "metadata": {},
   "outputs": [
    {
     "data": {
      "image/png": "[encoded data removed]",
      "text/plain": [
       "<Figure size 432x288 with 1 Axes>"
      ]
     },
     "metadata": {},
     "output_type": "display_data"
    }
   ],
   "source": [
    "import matplotlib.pyplot as plt\n",
    "\n",
    "labels=\"tıp\",\"mühendislik\",\"edebiyat\",\"iktisat\"\n",
    "sizes=[15,30,45,10]\n",
    "explodes=(0,0.1,0,0)\n",
    "plt.pie(sizes,labels=labels,explode=explodes,startangle=90,shadow=True)\n",
    "plt.show()"
   ]
  },
  {
   "cell_type": "code",
   "execution_count": 19,
   "metadata": {},
   "outputs": [
    {
     "name": "stdout",
     "output_type": "stream",
     "text": [
      "   sepal.length  sepal.width  petal.length  petal.width variety\n",
      "0           5.1          3.5           1.4          0.2  Setosa\n",
      "1           4.9          3.0           1.4          0.2  Setosa\n",
      "2           4.7          3.2           1.3          0.2  Setosa\n",
      "3           4.6          3.1           1.5          0.2  Setosa\n",
      "4           5.0          3.6           1.4          0.2  Setosa\n"
     ]
    }
   ],
   "source": [
    "import pandas as pd\n",
    "df=pd.read_csv(\"iris.csv\")\n",
    "print(df.head())"
   ]
  },
  {
   "cell_type": "code",
   "execution_count": 20,
   "metadata": {},
   "outputs": [
    {
     "data": {
      "text/plain": [
       "3"
      ]
     },
     "execution_count": 20,
     "metadata": {},
     "output_type": "execute_result"
    }
   ],
   "source": [
    "len(df.variety.unique())"
   ]
  },
  {
   "cell_type": "code",
   "execution_count": 21,
   "metadata": {},
   "outputs": [
    {
     "name": "stdout",
     "output_type": "stream",
     "text": [
      "<class 'pandas.core.frame.DataFrame'>\n",
      "RangeIndex: 150 entries, 0 to 149\n",
      "Data columns (total 5 columns):\n",
      " #   Column        Non-Null Count  Dtype  \n",
      "---  ------        --------------  -----  \n",
      " 0   sepal.length  150 non-null    float64\n",
      " 1   sepal.width   150 non-null    float64\n",
      " 2   petal.length  150 non-null    float64\n",
      " 3   petal.width   150 non-null    float64\n",
      " 4   variety       150 non-null    object \n",
      "dtypes: float64(4), object(1)\n",
      "memory usage: 6.0+ KB\n"
     ]
    }
   ],
   "source": [
    "df.info()"
   ]
  },
  {
   "cell_type": "code",
   "execution_count": 22,
   "metadata": {},
   "outputs": [
    {
     "data": {
      "text/html": [
       "<div>\n",
       "<style scoped>\n",
       "    .dataframe tbody tr th:only-of-type {\n",
       "        vertical-align: middle;\n",
       "    }\n",
       "\n",
       "    .dataframe tbody tr th {\n",
       "        vertical-align: top;\n",
       "    }\n",
       "\n",
       "    .dataframe thead th {\n",
       "        text-align: right;\n",
       "    }\n",
       "</style>\n",
       "<table border=\"1\" class=\"dataframe\">\n",
       "  <thead>\n",
       "    <tr style=\"text-align: right;\">\n",
       "      <th></th>\n",
       "      <th>sepal.length</th>\n",
       "      <th>sepal.width</th>\n",
       "      <th>petal.length</th>\n",
       "      <th>petal.width</th>\n",
       "    </tr>\n",
       "  </thead>\n",
       "  <tbody>\n",
       "    <tr>\n",
       "      <th>count</th>\n",
       "      <td>150.000000</td>\n",
       "      <td>150.000000</td>\n",
       "      <td>150.000000</td>\n",
       "      <td>150.000000</td>\n",
       "    </tr>\n",
       "    <tr>\n",
       "      <th>mean</th>\n",
       "      <td>5.843333</td>\n",
       "      <td>3.057333</td>\n",
       "      <td>3.758000</td>\n",
       "      <td>1.199333</td>\n",
       "    </tr>\n",
       "    <tr>\n",
       "      <th>std</th>\n",
       "      <td>0.828066</td>\n",
       "      <td>0.435866</td>\n",
       "      <td>1.765298</td>\n",
       "      <td>0.762238</td>\n",
       "    </tr>\n",
       "    <tr>\n",
       "      <th>min</th>\n",
       "      <td>4.300000</td>\n",
       "      <td>2.000000</td>\n",
       "      <td>1.000000</td>\n",
       "      <td>0.100000</td>\n",
       "    </tr>\n",
       "    <tr>\n",
       "      <th>25%</th>\n",
       "      <td>5.100000</td>\n",
       "      <td>2.800000</td>\n",
       "      <td>1.600000</td>\n",
       "      <td>0.300000</td>\n",
       "    </tr>\n",
       "    <tr>\n",
       "      <th>50%</th>\n",
       "      <td>5.800000</td>\n",
       "      <td>3.000000</td>\n",
       "      <td>4.350000</td>\n",
       "      <td>1.300000</td>\n",
       "    </tr>\n",
       "    <tr>\n",
       "      <th>75%</th>\n",
       "      <td>6.400000</td>\n",
       "      <td>3.300000</td>\n",
       "      <td>5.100000</td>\n",
       "      <td>1.800000</td>\n",
       "    </tr>\n",
       "    <tr>\n",
       "      <th>max</th>\n",
       "      <td>7.900000</td>\n",
       "      <td>4.400000</td>\n",
       "      <td>6.900000</td>\n",
       "      <td>2.500000</td>\n",
       "    </tr>\n",
       "  </tbody>\n",
       "</table>\n",
       "</div>"
      ],
      "text/plain": [
       "       sepal.length  sepal.width  petal.length  petal.width\n",
       "count    150.000000   150.000000    150.000000   150.000000\n",
       "mean       5.843333     3.057333      3.758000     1.199333\n",
       "std        0.828066     0.435866      1.765298     0.762238\n",
       "min        4.300000     2.000000      1.000000     0.100000\n",
       "25%        5.100000     2.800000      1.600000     0.300000\n",
       "50%        5.800000     3.000000      4.350000     1.300000\n",
       "75%        6.400000     3.300000      5.100000     1.800000\n",
       "max        7.900000     4.400000      6.900000     2.500000"
      ]
     },
     "execution_count": 22,
     "metadata": {},
     "output_type": "execute_result"
    }
   ],
   "source": [
    "df.describe()"
   ]
  },
  {
   "cell_type": "code",
   "execution_count": 30,
   "metadata": {},
   "outputs": [],
   "source": [
    "virginica=df[df.variety==\"Virginica\"]\n",
    "setosa=df[df.variety==\"Setosa\"]\n",
    "versicolor=df[df.variety==\"Versicolor\"]"
   ]
  },
  {
   "cell_type": "code",
   "execution_count": 31,
   "metadata": {},
   "outputs": [
    {
     "name": "stdout",
     "output_type": "stream",
     "text": [
      "       sepal.length  sepal.width  petal.length  petal.width\n",
      "count      50.00000    50.000000     50.000000    50.000000\n",
      "mean        5.00600     3.428000      1.462000     0.246000\n",
      "std         0.35249     0.379064      0.173664     0.105386\n",
      "min         4.30000     2.300000      1.000000     0.100000\n",
      "25%         4.80000     3.200000      1.400000     0.200000\n",
      "50%         5.00000     3.400000      1.500000     0.200000\n",
      "75%         5.20000     3.675000      1.575000     0.300000\n",
      "max         5.80000     4.400000      1.900000     0.600000\n",
      "       sepal.length  sepal.width  petal.length  petal.width\n",
      "count      50.00000    50.000000     50.000000     50.00000\n",
      "mean        6.58800     2.974000      5.552000      2.02600\n",
      "std         0.63588     0.322497      0.551895      0.27465\n",
      "min         4.90000     2.200000      4.500000      1.40000\n",
      "25%         6.22500     2.800000      5.100000      1.80000\n",
      "50%         6.50000     3.000000      5.550000      2.00000\n",
      "75%         6.90000     3.175000      5.875000      2.30000\n",
      "max         7.90000     3.800000      6.900000      2.50000\n",
      "       sepal.length  sepal.width  petal.length  petal.width\n",
      "count     50.000000    50.000000     50.000000    50.000000\n",
      "mean       5.936000     2.770000      4.260000     1.326000\n",
      "std        0.516171     0.313798      0.469911     0.197753\n",
      "min        4.900000     2.000000      3.000000     1.000000\n",
      "25%        5.600000     2.525000      4.000000     1.200000\n",
      "50%        5.900000     2.800000      4.350000     1.300000\n",
      "75%        6.300000     3.000000      4.600000     1.500000\n",
      "max        7.000000     3.400000      5.100000     1.800000\n"
     ]
    }
   ],
   "source": [
    "print(setosa.describe())\n",
    "print(virginica.describe())\n",
    "print(versicolor.describe())"
   ]
  },
  {
   "cell_type": "code",
   "execution_count": 32,
   "metadata": {},
   "outputs": [
    {
     "data": {
      "image/png": "[encoded data removed]",
      "text/plain": [
       "<Figure size 432x288 with 1 Axes>"
      ]
     },
     "metadata": {
      "needs_background": "light"
     },
     "output_type": "display_data"
    }
   ],
   "source": [
    "import matplotlib.pyplot as plt\n",
    "\n",
    "df.plot()\n",
    "plt.show()"
   ]
  },
  {
   "cell_type": "code",
   "execution_count": 33,
   "metadata": {},
   "outputs": [
    {
     "data": {
      "image/png": "[encoded data removed]",
      "text/plain": [
       "<Figure size 432x288 with 1 Axes>"
      ]
     },
     "metadata": {
      "needs_background": "light"
     },
     "output_type": "display_data"
    }
   ],
   "source": [
    "plt.plot(setosa[\"petal.length\"],color=\"red\",label=\"setosa\")\n",
    "plt.show()"
   ]
  },
  {
   "cell_type": "code",
   "execution_count": 34,
   "metadata": {},
   "outputs": [
    {
     "data": {
      "image/png": "[encoded data removed]",
      "text/plain": [
       "<Figure size 432x288 with 1 Axes>"
      ]
     },
     "metadata": {
      "needs_background": "light"
     },
     "output_type": "display_data"
    }
   ],
   "source": [
    "plt.plot(setosa[\"petal.length\"],color=\"red\",label=\"setosa\")\n",
    "plt.plot(versicolor[\"petal.length\"],color=\"green\",label=\"versicolor\")\n",
    "plt.plot(virginica[\"petal.length\"],color=\"blue\",label=\"virginica\")\n",
    "plt.legend()\n",
    "plt.xlabel(\"index\")\n",
    "plt.ylabel(\"petal length (cm)\")\n",
    "plt.show()"
   ]
  },
  {
   "cell_type": "code",
   "execution_count": 35,
   "metadata": {},
   "outputs": [
    {
     "data": {
      "image/png": "[encoded data removed]",
      "text/plain": [
       "<Figure size 432x288 with 1 Axes>"
      ]
     },
     "metadata": {
      "needs_background": "light"
     },
     "output_type": "display_data"
    }
   ],
   "source": [
    "df.plot(grid=True,alpha=0.9)\n",
    "plt.show()"
   ]
  },
  {
   "cell_type": "code",
   "execution_count": 40,
   "metadata": {},
   "outputs": [
    {
     "data": {
      "image/png": "[encoded data removed]",
      "text/plain": [
       "<Figure size 432x288 with 1 Axes>"
      ]
     },
     "metadata": {
      "needs_background": "light"
     },
     "output_type": "display_data"
    }
   ],
   "source": [
    "plt.scatter(setosa[\"petal.length\"],setosa[\"petal.width\"],color=\"red\",label=\"setosa\")\n",
    "\n",
    "plt.legend()\n",
    "plt.xlabel(\"petal length (cm)\")\n",
    "plt.ylabel(\"petal width (cm)\")\n",
    "plt.title(\"scater plot\")\n",
    "plt.show()"
   ]
  },
  {
   "cell_type": "code",
   "execution_count": 38,
   "metadata": {},
   "outputs": [
    {
     "data": {
      "image/png": "[encoded data removed]",
      "text/plain": [
       "<Figure size 432x288 with 1 Axes>"
      ]
     },
     "metadata": {
      "needs_background": "light"
     },
     "output_type": "display_data"
    }
   ],
   "source": [
    "plt.scatter(virginica[\"petal.length\"],virginica[\"petal.width\"],color=\"red\",label=\"virginica\")\n",
    "plt.legend()\n",
    "plt.xlabel(\"petal length (cm)\")\n",
    "plt.ylabel(\"petal width (cm)\")\n",
    "plt.title(\"scater plot\")\n",
    "plt.show()"
   ]
  },
  {
   "cell_type": "code",
   "execution_count": 42,
   "metadata": {},
   "outputs": [
    {
     "data": {
      "image/png": "[encoded data removed]",
      "text/plain": [
       "<Figure size 432x288 with 1 Axes>"
      ]
     },
     "metadata": {
      "needs_background": "light"
     },
     "output_type": "display_data"
    }
   ],
   "source": [
    "plt.scatter(versicolor[\"petal.length\"],versicolor[\"petal.width\"],color=\"red\",label=\"versicolor\")\n",
    "plt.legend()\n",
    "plt.xlabel(\"petal length (cm)\")\n",
    "plt.ylabel(\"petal width (cm)\")\n",
    "plt.title(\"scater plot\")\n",
    "plt.show()"
   ]
  },
  {
   "cell_type": "code",
   "execution_count": 44,
   "metadata": {},
   "outputs": [
    {
     "data": {
      "image/png": "[encoded data removed]",
      "text/plain": [
       "<Figure size 432x288 with 1 Axes>"
      ]
     },
     "metadata": {
      "needs_background": "light"
     },
     "output_type": "display_data"
    }
   ],
   "source": [
    "plt.scatter(setosa[\"petal.length\"],setosa[\"petal.width\"],color=\"red\",label=\"setosa\")\n",
    "plt.scatter(versicolor[\"petal.length\"],versicolor[\"petal.width\"],color=\"blue\",label=\"versicolor\")\n",
    "plt.scatter(virginica[\"petal.length\"],virginica[\"petal.width\"],color=\"green\",label=\"virginica\")\n",
    "\n",
    "plt.legend()\n",
    "\n",
    "plt.xlabel(\"petal length (cm)\")\n",
    "plt.ylabel(\"petal width (cm)\")\n",
    "plt.title(\"scater plot\")\n",
    "plt.show()"
   ]
  },
  {
   "cell_type": "code",
   "execution_count": 53,
   "metadata": {},
   "outputs": [
    {
     "data": {
      "image/png": "[encoded data removed]",
      "text/plain": [
       "<Figure size 432x288 with 1 Axes>"
      ]
     },
     "metadata": {
      "needs_background": "light"
     },
     "output_type": "display_data"
    }
   ],
   "source": [
    "plt.hist(setosa[\"petal.length\"],bins=50)\n",
    "plt.xlabel(\"petal length (cm)\")\n",
    "plt.ylabel(\"frekans\")\n",
    "plt.title(\"histogram\")\n",
    "plt.show()"
   ]
  },
  {
   "cell_type": "markdown",
   "metadata": {},
   "source": [
    "# hafta 5 veri hazırlık süreci\n",
    "* genel bakış\n",
    "* özellik seçimi\n",
    "* veri temizliği ve dönüşümü\n",
    "* özellik mühendisliği\n",
    "* veri boyutu değişimi\n",
    "* eğitim test bölünmesi\n"
   ]
  },
  {
   "cell_type": "markdown",
   "metadata": {},
   "source": [
    "## genel bakış"
   ]
  },
  {
   "cell_type": "code",
   "execution_count": 1,
   "metadata": {},
   "outputs": [],
   "source": [
    "import pandas as pd\n",
    "import numpy as np\n"
   ]
  },
  {
   "cell_type": "code",
   "execution_count": 3,
   "metadata": {},
   "outputs": [
    {
     "name": "stdout",
     "output_type": "stream",
     "text": [
      "            PID  ST_NUM     ST_NAME OWN_OCCUPIED NUM_BEDROOMS NUM_BATH SQ_FT  \\\n",
      "0   100001000.0   104.0      PUTNAM            Y            3        1  1000   \n",
      "1   100002000.0   197.0   LEXINGTON            N            3      1.5    --   \n",
      "2   100003000.0     NaN   LEXINGTON            N         n/a-        1   850   \n",
      "3   100004000.0   201.0    BERKELEY           12            1      NaN   700   \n",
      "4           NaN   203.0    BERKELEY            Y            3        2  1600   \n",
      "5   100006000.0   207.0    BERKELEY            Y          NaN        1   800   \n",
      "6   100007000.0     NaN  WASHINGTON          NaN            2   HURLEY   950   \n",
      "7   100008000.0   213.0     TREMONT            Y           --        1   NaN   \n",
      "8   100009000.0   215.0     TREMONT            Y           na        2  1800   \n",
      "9   100001000.0   104.0      PUTNAM            Y            3        1  1000   \n",
      "10          NaN   203.0    BERKELEY            Y            3        2  1600   \n",
      "\n",
      "     REVENUE  \n",
      "0      3200$  \n",
      "1   2700000$  \n",
      "2      3000$  \n",
      "3      1700$  \n",
      "4      4500$  \n",
      "5      2100$  \n",
      "6      1800$  \n",
      "7      1600$  \n",
      "8      4000$  \n",
      "9      3200$  \n",
      "10     4500$  \n"
     ]
    }
   ],
   "source": [
    "df=pd.read_csv(\"5_sample.csv\",sep=\";\")\n",
    "print(df)"
   ]
  },
  {
   "cell_type": "code",
   "execution_count": 4,
   "metadata": {},
   "outputs": [
    {
     "name": "stdout",
     "output_type": "stream",
     "text": [
      "<class 'pandas.core.frame.DataFrame'>\n",
      "RangeIndex: 11 entries, 0 to 10\n",
      "Data columns (total 8 columns):\n",
      " #   Column        Non-Null Count  Dtype  \n",
      "---  ------        --------------  -----  \n",
      " 0   PID           9 non-null      float64\n",
      " 1   ST_NUM        9 non-null      float64\n",
      " 2   ST_NAME       11 non-null     object \n",
      " 3   OWN_OCCUPIED  10 non-null     object \n",
      " 4   NUM_BEDROOMS  10 non-null     object \n",
      " 5   NUM_BATH      10 non-null     object \n",
      " 6   SQ_FT         10 non-null     object \n",
      " 7   REVENUE       11 non-null     object \n",
      "dtypes: float64(2), object(6)\n",
      "memory usage: 832.0+ bytes\n",
      "None\n"
     ]
    }
   ],
   "source": [
    "print(df.info())"
   ]
  },
  {
   "cell_type": "code",
   "execution_count": 5,
   "metadata": {},
   "outputs": [
    {
     "name": "stdout",
     "output_type": "stream",
     "text": [
      "PID             float64\n",
      "ST_NUM          float64\n",
      "ST_NAME          object\n",
      "OWN_OCCUPIED     object\n",
      "NUM_BEDROOMS     object\n",
      "NUM_BATH         object\n",
      "SQ_FT            object\n",
      "REVENUE          object\n",
      "dtype: object\n"
     ]
    }
   ],
   "source": [
    "print(df.dtypes)"
   ]
  },
  {
   "cell_type": "code",
   "execution_count": 7,
   "metadata": {},
   "outputs": [
    {
     "name": "stdout",
     "output_type": "stream",
     "text": [
      "                PID      ST_NUM\n",
      "count  9.000000e+00    9.000000\n",
      "mean   1.000046e+08  183.000000\n",
      "std    3.045944e+03   45.141444\n",
      "min    1.000010e+08  104.000000\n",
      "25%    1.000020e+08  197.000000\n",
      "50%    1.000040e+08  203.000000\n",
      "75%    1.000070e+08  207.000000\n",
      "max    1.000090e+08  215.000000\n"
     ]
    }
   ],
   "source": [
    "print(df.describe())"
   ]
  },
  {
   "cell_type": "markdown",
   "metadata": {},
   "source": [
    "## özellik seçimi\n",
    "st_name dışındaki sütuların veri tipi değişmeli, own_occupıed kategorik olamalı , pid gereksiz görünüyor silinebilir."
   ]
  },
  {
   "cell_type": "code",
   "execution_count": 9,
   "metadata": {},
   "outputs": [],
   "source": [
    "df.drop(\"PID\",inplace=True,axis=1)"
   ]
  },
  {
   "cell_type": "markdown",
   "metadata": {},
   "source": [
    "## veri temizliği ve dönüşümü \n",
    "* kayıp verilerin tespiti ve dönüşümü \n",
    "* veri tiplerinin dönüşümü\n",
    "* tekrarlayan veri kontrolü\n",
    "* kategorik veri dönüşümü \n",
    "* aşırı veri kontrolü\n",
    "* normalizasyon(min-max)"
   ]
  },
  {
   "cell_type": "code",
   "execution_count": 10,
   "metadata": {},
   "outputs": [
    {
     "name": "stdout",
     "output_type": "stream",
     "text": [
      "    ST_NUM     ST_NAME OWN_OCCUPIED NUM_BEDROOMS NUM_BATH SQ_FT   REVENUE\n",
      "0    104.0      PUTNAM            Y            3        1  1000     3200$\n",
      "1    197.0   LEXINGTON            N            3      1.5    --  2700000$\n",
      "2      NaN   LEXINGTON            N         n/a-        1   850     3000$\n",
      "3    201.0    BERKELEY           12            1      NaN   700     1700$\n",
      "4    203.0    BERKELEY            Y            3        2  1600     4500$\n",
      "5    207.0    BERKELEY            Y          NaN        1   800     2100$\n",
      "6      NaN  WASHINGTON          NaN            2   HURLEY   950     1800$\n",
      "7    213.0     TREMONT            Y           --        1   NaN     1600$\n",
      "8    215.0     TREMONT            Y           na        2  1800     4000$\n",
      "9    104.0      PUTNAM            Y            3        1  1000     3200$\n",
      "10   203.0    BERKELEY            Y            3        2  1600     4500$\n"
     ]
    }
   ],
   "source": [
    "print(df)"
   ]
  },
  {
   "cell_type": "markdown",
   "metadata": {},
   "source": [
    "ST_NUM:İNT,ST_NAME:OBJECT, OWN_ACCUPIED:KATEGORİK,NUM_BEDROOMS:İNT,NUM_BATH:İNT,SQ_FT:NUMERİC,REVENUE:NUMERİC"
   ]
  },
  {
   "cell_type": "code",
   "execution_count": 11,
   "metadata": {},
   "outputs": [
    {
     "name": "stdout",
     "output_type": "stream",
     "text": [
      "['PUTNAM' 'LEXINGTON' 'BERKELEY' 'WASHINGTON' 'TREMONT']\n"
     ]
    }
   ],
   "source": [
    "print(df.ST_NAME.unique())"
   ]
  },
  {
   "cell_type": "markdown",
   "metadata": {},
   "source": [
    "### kayıp verilerin tespiti ve dönüşümü\n",
    "standart and non-standart mising value"
   ]
  },
  {
   "cell_type": "code",
   "execution_count": 12,
   "metadata": {},
   "outputs": [
    {
     "name": "stdout",
     "output_type": "stream",
     "text": [
      "0     104.0\n",
      "1     197.0\n",
      "2       NaN\n",
      "3     201.0\n",
      "4     203.0\n",
      "5     207.0\n",
      "6       NaN\n",
      "7     213.0\n",
      "8     215.0\n",
      "9     104.0\n",
      "10    203.0\n",
      "Name: ST_NUM, dtype: float64\n"
     ]
    }
   ],
   "source": [
    "print(df.ST_NUM)"
   ]
  },
  {
   "cell_type": "code",
   "execution_count": 13,
   "metadata": {},
   "outputs": [
    {
     "name": "stdout",
     "output_type": "stream",
     "text": [
      "0     False\n",
      "1     False\n",
      "2      True\n",
      "3     False\n",
      "4     False\n",
      "5     False\n",
      "6      True\n",
      "7     False\n",
      "8     False\n",
      "9     False\n",
      "10    False\n",
      "Name: ST_NUM, dtype: bool\n"
     ]
    }
   ],
   "source": [
    "print(df.ST_NUM.isnull())"
   ]
  },
  {
   "cell_type": "code",
   "execution_count": 14,
   "metadata": {},
   "outputs": [
    {
     "name": "stdout",
     "output_type": "stream",
     "text": [
      "0        3\n",
      "1        3\n",
      "2     n/a-\n",
      "3        1\n",
      "4        3\n",
      "5      NaN\n",
      "6        2\n",
      "7       --\n",
      "8       na\n",
      "9        3\n",
      "10       3\n",
      "Name: NUM_BEDROOMS, dtype: object\n"
     ]
    }
   ],
   "source": [
    "print(df.NUM_BEDROOMS)"
   ]
  },
  {
   "cell_type": "code",
   "execution_count": 16,
   "metadata": {},
   "outputs": [
    {
     "name": "stdout",
     "output_type": "stream",
     "text": [
      "0     False\n",
      "1     False\n",
      "2     False\n",
      "3     False\n",
      "4     False\n",
      "5      True\n",
      "6     False\n",
      "7     False\n",
      "8     False\n",
      "9     False\n",
      "10    False\n",
      "Name: NUM_BEDROOMS, dtype: bool\n"
     ]
    }
   ],
   "source": [
    "print(df.NUM_BEDROOMS.isnull())"
   ]
  },
  {
   "cell_type": "code",
   "execution_count": 19,
   "metadata": {},
   "outputs": [],
   "source": [
    "missing_values=[\"n/a-\",\"--\",\"na\"]\n",
    "df=pd.read_csv(\"5_sample.csv\",sep=\";\",na_values=missing_values)\n",
    "df.drop(\"PID\",inplace=True,axis=1)"
   ]
  },
  {
   "cell_type": "code",
   "execution_count": 20,
   "metadata": {},
   "outputs": [
    {
     "name": "stdout",
     "output_type": "stream",
     "text": [
      "    ST_NUM     ST_NAME OWN_OCCUPIED  NUM_BEDROOMS NUM_BATH   SQ_FT   REVENUE\n",
      "0    104.0      PUTNAM            Y           3.0        1  1000.0     3200$\n",
      "1    197.0   LEXINGTON            N           3.0      1.5     NaN  2700000$\n",
      "2      NaN   LEXINGTON            N           NaN        1   850.0     3000$\n",
      "3    201.0    BERKELEY           12           1.0      NaN   700.0     1700$\n",
      "4    203.0    BERKELEY            Y           3.0        2  1600.0     4500$\n",
      "5    207.0    BERKELEY            Y           NaN        1   800.0     2100$\n",
      "6      NaN  WASHINGTON          NaN           2.0   HURLEY   950.0     1800$\n",
      "7    213.0     TREMONT            Y           NaN        1     NaN     1600$\n",
      "8    215.0     TREMONT            Y           NaN        2  1800.0     4000$\n",
      "9    104.0      PUTNAM            Y           3.0        1  1000.0     3200$\n",
      "10   203.0    BERKELEY            Y           3.0        2  1600.0     4500$\n"
     ]
    }
   ],
   "source": [
    "print(df)"
   ]
  },
  {
   "cell_type": "code",
   "execution_count": 21,
   "metadata": {},
   "outputs": [
    {
     "name": "stdout",
     "output_type": "stream",
     "text": [
      "0     False\n",
      "1     False\n",
      "2      True\n",
      "3     False\n",
      "4     False\n",
      "5      True\n",
      "6     False\n",
      "7      True\n",
      "8      True\n",
      "9     False\n",
      "10    False\n",
      "Name: NUM_BEDROOMS, dtype: bool\n"
     ]
    }
   ],
   "source": [
    "print(df.NUM_BEDROOMS.isnull())"
   ]
  },
  {
   "cell_type": "markdown",
   "metadata": {},
   "source": [
    "**beklenmeyen eksik değerler**"
   ]
  },
  {
   "cell_type": "code",
   "execution_count": 22,
   "metadata": {},
   "outputs": [
    {
     "name": "stdout",
     "output_type": "stream",
     "text": [
      "0       Y\n",
      "1       N\n",
      "2       N\n",
      "3      12\n",
      "4       Y\n",
      "5       Y\n",
      "6     NaN\n",
      "7       Y\n",
      "8       Y\n",
      "9       Y\n",
      "10      Y\n",
      "Name: OWN_OCCUPIED, dtype: object\n"
     ]
    }
   ],
   "source": [
    "print(df.OWN_OCCUPIED)"
   ]
  },
  {
   "cell_type": "code",
   "execution_count": 23,
   "metadata": {},
   "outputs": [
    {
     "name": "stdout",
     "output_type": "stream",
     "text": [
      "0     False\n",
      "1     False\n",
      "2     False\n",
      "3     False\n",
      "4     False\n",
      "5     False\n",
      "6      True\n",
      "7     False\n",
      "8     False\n",
      "9     False\n",
      "10    False\n",
      "Name: OWN_OCCUPIED, dtype: bool\n"
     ]
    }
   ],
   "source": [
    "print(df.OWN_OCCUPIED.isnull())"
   ]
  },
  {
   "cell_type": "code",
   "execution_count": 24,
   "metadata": {},
   "outputs": [],
   "source": [
    "cnt=0\n",
    "for row in df[\"OWN_OCCUPIED\"]:\n",
    "    try:\n",
    "        int(row)\n",
    "        df.loc[cnt,\"OWN_OCCUPIED\"]=np.nan\n",
    "    except ValueError:\n",
    "        pass\n",
    "    cnt+=1"
   ]
  },
  {
   "cell_type": "code",
   "execution_count": 25,
   "metadata": {},
   "outputs": [
    {
     "name": "stdout",
     "output_type": "stream",
     "text": [
      "0     False\n",
      "1     False\n",
      "2     False\n",
      "3      True\n",
      "4     False\n",
      "5     False\n",
      "6      True\n",
      "7     False\n",
      "8     False\n",
      "9     False\n",
      "10    False\n",
      "Name: OWN_OCCUPIED, dtype: bool\n"
     ]
    }
   ],
   "source": [
    "print(df.OWN_OCCUPIED.isnull())"
   ]
  },
  {
   "cell_type": "code",
   "execution_count": 26,
   "metadata": {},
   "outputs": [
    {
     "name": "stdout",
     "output_type": "stream",
     "text": [
      "0          1\n",
      "1        1.5\n",
      "2          1\n",
      "3        NaN\n",
      "4          2\n",
      "5          1\n",
      "6     HURLEY\n",
      "7          1\n",
      "8          2\n",
      "9          1\n",
      "10         2\n",
      "Name: NUM_BATH, dtype: object\n"
     ]
    }
   ],
   "source": [
    "print(df.NUM_BATH)"
   ]
  },
  {
   "cell_type": "code",
   "execution_count": 27,
   "metadata": {},
   "outputs": [],
   "source": [
    "cnt=0\n",
    "for row in df[\"NUM_BATH\"]:\n",
    "    try:\n",
    "        int(row)\n",
    "        pass\n",
    "    except ValueError:\n",
    "         df.loc[cnt,\"NUM_BATH\"]=np.nan\n",
    "    cnt+=1"
   ]
  },
  {
   "cell_type": "code",
   "execution_count": 28,
   "metadata": {},
   "outputs": [
    {
     "name": "stdout",
     "output_type": "stream",
     "text": [
      "0       1\n",
      "1     NaN\n",
      "2       1\n",
      "3     NaN\n",
      "4       2\n",
      "5       1\n",
      "6     NaN\n",
      "7       1\n",
      "8       2\n",
      "9       1\n",
      "10      2\n",
      "Name: NUM_BATH, dtype: object\n"
     ]
    }
   ],
   "source": [
    "print(df.NUM_BATH)"
   ]
  },
  {
   "cell_type": "code",
   "execution_count": 29,
   "metadata": {},
   "outputs": [
    {
     "name": "stdout",
     "output_type": "stream",
     "text": [
      "0     False\n",
      "1      True\n",
      "2     False\n",
      "3      True\n",
      "4     False\n",
      "5     False\n",
      "6      True\n",
      "7     False\n",
      "8     False\n",
      "9     False\n",
      "10    False\n",
      "Name: NUM_BATH, dtype: bool\n"
     ]
    }
   ],
   "source": [
    "print(df.NUM_BATH.isnull())"
   ]
  },
  {
   "cell_type": "code",
   "execution_count": 30,
   "metadata": {},
   "outputs": [
    {
     "name": "stdout",
     "output_type": "stream",
     "text": [
      "    ST_NUM     ST_NAME OWN_OCCUPIED  NUM_BEDROOMS NUM_BATH   SQ_FT   REVENUE\n",
      "0    104.0      PUTNAM            Y           3.0        1  1000.0     3200$\n",
      "1    197.0   LEXINGTON            N           3.0      NaN     NaN  2700000$\n",
      "2      NaN   LEXINGTON            N           NaN        1   850.0     3000$\n",
      "3    201.0    BERKELEY          NaN           1.0      NaN   700.0     1700$\n",
      "4    203.0    BERKELEY            Y           3.0        2  1600.0     4500$\n",
      "5    207.0    BERKELEY            Y           NaN        1   800.0     2100$\n",
      "6      NaN  WASHINGTON          NaN           2.0      NaN   950.0     1800$\n",
      "7    213.0     TREMONT            Y           NaN        1     NaN     1600$\n",
      "8    215.0     TREMONT            Y           NaN        2  1800.0     4000$\n",
      "9    104.0      PUTNAM            Y           3.0        1  1000.0     3200$\n",
      "10   203.0    BERKELEY            Y           3.0        2  1600.0     4500$\n"
     ]
    }
   ],
   "source": [
    "print(df)"
   ]
  },
  {
   "cell_type": "code",
   "execution_count": 32,
   "metadata": {},
   "outputs": [
    {
     "name": "stdout",
     "output_type": "stream",
     "text": [
      "<class 'pandas.core.frame.DataFrame'>\n",
      "RangeIndex: 11 entries, 0 to 10\n",
      "Data columns (total 7 columns):\n",
      " #   Column        Non-Null Count  Dtype  \n",
      "---  ------        --------------  -----  \n",
      " 0   ST_NUM        9 non-null      float64\n",
      " 1   ST_NAME       11 non-null     object \n",
      " 2   OWN_OCCUPIED  9 non-null      object \n",
      " 3   NUM_BEDROOMS  7 non-null      float64\n",
      " 4   NUM_BATH      8 non-null      object \n",
      " 5   SQ_FT         9 non-null      float64\n",
      " 6   REVENUE       11 non-null     object \n",
      "dtypes: float64(3), object(4)\n",
      "memory usage: 744.0+ bytes\n",
      "None\n"
     ]
    }
   ],
   "source": [
    "\n",
    "print(df.info())"
   ]
  },
  {
   "cell_type": "code",
   "execution_count": 33,
   "metadata": {},
   "outputs": [
    {
     "name": "stdout",
     "output_type": "stream",
     "text": [
      "ST_NUM          2\n",
      "ST_NAME         0\n",
      "OWN_OCCUPIED    2\n",
      "NUM_BEDROOMS    4\n",
      "NUM_BATH        3\n",
      "SQ_FT           2\n",
      "REVENUE         0\n",
      "dtype: int64\n"
     ]
    }
   ],
   "source": [
    "print(df.isnull().sum())"
   ]
  },
  {
   "cell_type": "code",
   "execution_count": 34,
   "metadata": {},
   "outputs": [
    {
     "name": "stdout",
     "output_type": "stream",
     "text": [
      "13\n"
     ]
    }
   ],
   "source": [
    "print(df.isnull().sum().sum())"
   ]
  },
  {
   "cell_type": "markdown",
   "metadata": {},
   "source": [
    "**REPLACİNG**\n"
   ]
  },
  {
   "cell_type": "code",
   "execution_count": 35,
   "metadata": {},
   "outputs": [],
   "source": [
    "#df.dropna() mising value olan kayıtları siler.\n",
    "#df.fillna() mv olan kayıtları isteğe göre doldurur.\n",
    "#df.interpolate() mv olan kayıtları interpolasyon yaparak doldurur."
   ]
  },
  {
   "cell_type": "code",
   "execution_count": 36,
   "metadata": {},
   "outputs": [
    {
     "name": "stdout",
     "output_type": "stream",
     "text": [
      "0    0.0\n",
      "1    1.0\n",
      "2    NaN\n",
      "3    3.0\n",
      "dtype: float64\n"
     ]
    }
   ],
   "source": [
    "s=pd.Series([0,1,np.nan,3])\n",
    "print(s)"
   ]
  },
  {
   "cell_type": "code",
   "execution_count": 37,
   "metadata": {},
   "outputs": [
    {
     "data": {
      "text/plain": [
       "0    0.0\n",
       "1    1.0\n",
       "2    2.0\n",
       "3    3.0\n",
       "dtype: float64"
      ]
     },
     "execution_count": 37,
     "metadata": {},
     "output_type": "execute_result"
    }
   ],
   "source": [
    "s.interpolate()"
   ]
  },
  {
   "cell_type": "code",
   "execution_count": 40,
   "metadata": {},
   "outputs": [],
   "source": [
    "df[\"ST_NUM\"]=df[\"ST_NUM\"].interpolate()"
   ]
  },
  {
   "cell_type": "code",
   "execution_count": 41,
   "metadata": {},
   "outputs": [
    {
     "name": "stdout",
     "output_type": "stream",
     "text": [
      "0     104.0\n",
      "1     197.0\n",
      "2     199.0\n",
      "3     201.0\n",
      "4     203.0\n",
      "5     207.0\n",
      "6     210.0\n",
      "7     213.0\n",
      "8     215.0\n",
      "9     104.0\n",
      "10    203.0\n",
      "Name: ST_NUM, dtype: float64\n"
     ]
    }
   ],
   "source": [
    "print(df.ST_NUM)"
   ]
  },
  {
   "cell_type": "code",
   "execution_count": 42,
   "metadata": {},
   "outputs": [
    {
     "name": "stdout",
     "output_type": "stream",
     "text": [
      "    ST_NUM     ST_NAME OWN_OCCUPIED  NUM_BEDROOMS NUM_BATH   SQ_FT   REVENUE\n",
      "0    104.0      PUTNAM            Y           3.0        1  1000.0     3200$\n",
      "1    197.0   LEXINGTON            N           3.0      NaN     NaN  2700000$\n",
      "2    199.0   LEXINGTON            N           NaN        1   850.0     3000$\n",
      "3    201.0    BERKELEY          NaN           1.0      NaN   700.0     1700$\n",
      "4    203.0    BERKELEY            Y           3.0        2  1600.0     4500$\n",
      "5    207.0    BERKELEY            Y           NaN        1   800.0     2100$\n",
      "6    210.0  WASHINGTON          NaN           2.0      NaN   950.0     1800$\n",
      "7    213.0     TREMONT            Y           NaN        1     NaN     1600$\n",
      "8    215.0     TREMONT            Y           NaN        2  1800.0     4000$\n",
      "9    104.0      PUTNAM            Y           3.0        1  1000.0     3200$\n",
      "10   203.0    BERKELEY            Y           3.0        2  1600.0     4500$\n"
     ]
    }
   ],
   "source": [
    "dfy=df\n",
    "print(dfy)"
   ]
  },
  {
   "cell_type": "code",
   "execution_count": 43,
   "metadata": {},
   "outputs": [],
   "source": [
    "df.SQ_FT.fillna((df.SQ_FT.mean()),inplace=True)"
   ]
  },
  {
   "cell_type": "code",
   "execution_count": 44,
   "metadata": {},
   "outputs": [
    {
     "name": "stdout",
     "output_type": "stream",
     "text": [
      "    ST_NUM     ST_NAME OWN_OCCUPIED  NUM_BEDROOMS NUM_BATH        SQ_FT  \\\n",
      "0    104.0      PUTNAM            Y           3.0        1  1000.000000   \n",
      "1    197.0   LEXINGTON            N           3.0      NaN  1144.444444   \n",
      "2    199.0   LEXINGTON            N           NaN        1   850.000000   \n",
      "3    201.0    BERKELEY          NaN           1.0      NaN   700.000000   \n",
      "4    203.0    BERKELEY            Y           3.0        2  1600.000000   \n",
      "5    207.0    BERKELEY            Y           NaN        1   800.000000   \n",
      "6    210.0  WASHINGTON          NaN           2.0      NaN   950.000000   \n",
      "7    213.0     TREMONT            Y           NaN        1  1144.444444   \n",
      "8    215.0     TREMONT            Y           NaN        2  1800.000000   \n",
      "9    104.0      PUTNAM            Y           3.0        1  1000.000000   \n",
      "10   203.0    BERKELEY            Y           3.0        2  1600.000000   \n",
      "\n",
      "     REVENUE  \n",
      "0      3200$  \n",
      "1   2700000$  \n",
      "2      3000$  \n",
      "3      1700$  \n",
      "4      4500$  \n",
      "5      2100$  \n",
      "6      1800$  \n",
      "7      1600$  \n",
      "8      4000$  \n",
      "9      3200$  \n",
      "10     4500$  \n"
     ]
    }
   ],
   "source": [
    "print(df)"
   ]
  },
  {
   "cell_type": "code",
   "execution_count": 45,
   "metadata": {},
   "outputs": [
    {
     "name": "stdout",
     "output_type": "stream",
     "text": [
      "    ST_NUM     ST_NAME OWN_OCCUPIED  NUM_BEDROOMS NUM_BATH        SQ_FT  \\\n",
      "0    104.0      PUTNAM            Y           3.0        1  1000.000000   \n",
      "1    197.0   LEXINGTON            N           3.0      NaN  1144.444444   \n",
      "2    199.0   LEXINGTON            N           NaN        1   850.000000   \n",
      "3    201.0    BERKELEY            N           1.0      NaN   700.000000   \n",
      "4    203.0    BERKELEY            Y           3.0        2  1600.000000   \n",
      "5    207.0    BERKELEY            Y           NaN        1   800.000000   \n",
      "6    210.0  WASHINGTON            N           2.0      NaN   950.000000   \n",
      "7    213.0     TREMONT            Y           NaN        1  1144.444444   \n",
      "8    215.0     TREMONT            Y           NaN        2  1800.000000   \n",
      "9    104.0      PUTNAM            Y           3.0        1  1000.000000   \n",
      "10   203.0    BERKELEY            Y           3.0        2  1600.000000   \n",
      "\n",
      "     REVENUE  \n",
      "0      3200$  \n",
      "1   2700000$  \n",
      "2      3000$  \n",
      "3      1700$  \n",
      "4      4500$  \n",
      "5      2100$  \n",
      "6      1800$  \n",
      "7      1600$  \n",
      "8      4000$  \n",
      "9      3200$  \n",
      "10     4500$  \n"
     ]
    }
   ],
   "source": [
    "df.OWN_OCCUPIED.fillna(\"N\",inplace=True)\n",
    "print(df)"
   ]
  },
  {
   "cell_type": "code",
   "execution_count": 46,
   "metadata": {},
   "outputs": [
    {
     "name": "stdout",
     "output_type": "stream",
     "text": [
      "    ST_NUM     ST_NAME OWN_OCCUPIED  NUM_BEDROOMS NUM_BATH        SQ_FT  \\\n",
      "0    104.0      PUTNAM            Y           3.0        1  1000.000000   \n",
      "1    197.0   LEXINGTON            N           3.0        1  1144.444444   \n",
      "2    199.0   LEXINGTON            N           NaN        1   850.000000   \n",
      "3    201.0    BERKELEY            N           1.0        1   700.000000   \n",
      "4    203.0    BERKELEY            Y           3.0        2  1600.000000   \n",
      "5    207.0    BERKELEY            Y           NaN        1   800.000000   \n",
      "6    210.0  WASHINGTON            N           2.0        1   950.000000   \n",
      "7    213.0     TREMONT            Y           NaN        1  1144.444444   \n",
      "8    215.0     TREMONT            Y           NaN        2  1800.000000   \n",
      "9    104.0      PUTNAM            Y           3.0        1  1000.000000   \n",
      "10   203.0    BERKELEY            Y           3.0        2  1600.000000   \n",
      "\n",
      "     REVENUE  \n",
      "0      3200$  \n",
      "1   2700000$  \n",
      "2      3000$  \n",
      "3      1700$  \n",
      "4      4500$  \n",
      "5      2100$  \n",
      "6      1800$  \n",
      "7      1600$  \n",
      "8      4000$  \n",
      "9      3200$  \n",
      "10     4500$  \n"
     ]
    }
   ],
   "source": [
    "df.NUM_BATH.fillna(1,inplace=True)\n",
    "print(df)"
   ]
  },
  {
   "cell_type": "code",
   "execution_count": 47,
   "metadata": {},
   "outputs": [
    {
     "name": "stdout",
     "output_type": "stream",
     "text": [
      "<bound method Series.sum of 0        3200$\n",
      "1     2700000$\n",
      "2        3000$\n",
      "3        1700$\n",
      "4        4500$\n",
      "5        2100$\n",
      "6        1800$\n",
      "7        1600$\n",
      "8        4000$\n",
      "9        3200$\n",
      "10       4500$\n",
      "Name: REVENUE, dtype: object>\n"
     ]
    }
   ],
   "source": [
    "print(df.REVENUE.sum)"
   ]
  },
  {
   "cell_type": "code",
   "execution_count": 48,
   "metadata": {},
   "outputs": [],
   "source": [
    "df.REVENUE=df.REVENUE.str.strip(\"$\")"
   ]
  },
  {
   "cell_type": "code",
   "execution_count": 49,
   "metadata": {},
   "outputs": [
    {
     "name": "stdout",
     "output_type": "stream",
     "text": [
      "<bound method Series.sum of 0        3200\n",
      "1     2700000\n",
      "2        3000\n",
      "3        1700\n",
      "4        4500\n",
      "5        2100\n",
      "6        1800\n",
      "7        1600\n",
      "8        4000\n",
      "9        3200\n",
      "10       4500\n",
      "Name: REVENUE, dtype: object>\n"
     ]
    }
   ],
   "source": [
    "print(df.REVENUE.sum)"
   ]
  },
  {
   "cell_type": "code",
   "execution_count": 50,
   "metadata": {},
   "outputs": [
    {
     "name": "stdout",
     "output_type": "stream",
     "text": [
      "    ST_NUM     ST_NAME OWN_OCCUPIED  NUM_BEDROOMS NUM_BATH        SQ_FT  \\\n",
      "0    104.0      PUTNAM            Y           3.0        1  1000.000000   \n",
      "1    197.0   LEXINGTON            N           3.0        1  1144.444444   \n",
      "3    201.0    BERKELEY            N           1.0        1   700.000000   \n",
      "4    203.0    BERKELEY            Y           3.0        2  1600.000000   \n",
      "6    210.0  WASHINGTON            N           2.0        1   950.000000   \n",
      "9    104.0      PUTNAM            Y           3.0        1  1000.000000   \n",
      "10   203.0    BERKELEY            Y           3.0        2  1600.000000   \n",
      "\n",
      "    REVENUE  \n",
      "0      3200  \n",
      "1   2700000  \n",
      "3      1700  \n",
      "4      4500  \n",
      "6      1800  \n",
      "9      3200  \n",
      "10     4500  \n"
     ]
    }
   ],
   "source": [
    "df.dropna(inplace=True)\n",
    "print(df)"
   ]
  },
  {
   "cell_type": "code",
   "execution_count": 51,
   "metadata": {},
   "outputs": [
    {
     "name": "stdout",
     "output_type": "stream",
     "text": [
      "0\n"
     ]
    }
   ],
   "source": [
    "print(df.isnull().sum().sum())"
   ]
  },
  {
   "cell_type": "markdown",
   "metadata": {},
   "source": [
    "### veri tiplerinin dönüşümü"
   ]
  },
  {
   "cell_type": "code",
   "execution_count": 52,
   "metadata": {},
   "outputs": [
    {
     "name": "stdout",
     "output_type": "stream",
     "text": [
      "ST_NUM          float64\n",
      "ST_NAME          object\n",
      "OWN_OCCUPIED     object\n",
      "NUM_BEDROOMS    float64\n",
      "NUM_BATH         object\n",
      "SQ_FT           float64\n",
      "REVENUE          object\n",
      "dtype: object\n"
     ]
    }
   ],
   "source": [
    "print(df.dtypes)"
   ]
  },
  {
   "cell_type": "code",
   "execution_count": 55,
   "metadata": {},
   "outputs": [
    {
     "name": "stdout",
     "output_type": "stream",
     "text": [
      "ST_NUM           int32\n",
      "ST_NAME         object\n",
      "OWN_OCCUPIED    object\n",
      "NUM_BEDROOMS     int32\n",
      "NUM_BATH         int32\n",
      "SQ_FT            int32\n",
      "REVENUE          int32\n",
      "dtype: object\n"
     ]
    }
   ],
   "source": [
    "donusum={\"ST_NUM\":int,\n",
    "         \"ST_NAME\":str,\n",
    "         \"OWN_OCCUPIED\":str,\n",
    "         \"NUM_BEDROOMS\":int,\n",
    "         \"NUM_BATH\":int,\n",
    "         \"SQ_FT\":int,\n",
    "         \"REVENUE\":int}\n",
    "\n",
    "df=df.astype(donusum)\n",
    "print(df.dtypes)"
   ]
  },
  {
   "cell_type": "code",
   "execution_count": 56,
   "metadata": {},
   "outputs": [
    {
     "name": "stdout",
     "output_type": "stream",
     "text": [
      "    ST_NUM     ST_NAME OWN_OCCUPIED  NUM_BEDROOMS  NUM_BATH  SQ_FT  REVENUE\n",
      "0      104      PUTNAM            Y             3         1   1000     3200\n",
      "1      197   LEXINGTON            N             3         1   1144  2700000\n",
      "3      201    BERKELEY            N             1         1    700     1700\n",
      "4      203    BERKELEY            Y             3         2   1600     4500\n",
      "6      210  WASHINGTON            N             2         1    950     1800\n",
      "9      104      PUTNAM            Y             3         1   1000     3200\n",
      "10     203    BERKELEY            Y             3         2   1600     4500\n"
     ]
    }
   ],
   "source": [
    "print(df)"
   ]
  },
  {
   "cell_type": "markdown",
   "metadata": {},
   "source": [
    "### tekrarlayan veri kontrolü"
   ]
  },
  {
   "cell_type": "code",
   "execution_count": 57,
   "metadata": {},
   "outputs": [
    {
     "name": "stdout",
     "output_type": "stream",
     "text": [
      "0     False\n",
      "1     False\n",
      "3     False\n",
      "4     False\n",
      "6     False\n",
      "9      True\n",
      "10     True\n",
      "dtype: bool\n"
     ]
    }
   ],
   "source": [
    "print(df.duplicated())"
   ]
  },
  {
   "cell_type": "code",
   "execution_count": 59,
   "metadata": {},
   "outputs": [
    {
     "name": "stdout",
     "output_type": "stream",
     "text": [
      "    ST_NUM   ST_NAME OWN_OCCUPIED  NUM_BEDROOMS  NUM_BATH  SQ_FT  REVENUE\n",
      "9      104    PUTNAM            Y             3         1   1000     3200\n",
      "10     203  BERKELEY            Y             3         2   1600     4500\n"
     ]
    }
   ],
   "source": [
    "print(df[df.duplicated()])"
   ]
  },
  {
   "cell_type": "code",
   "execution_count": 60,
   "metadata": {},
   "outputs": [],
   "source": [
    "df.drop_duplicates(inplace=True)\n"
   ]
  },
  {
   "cell_type": "code",
   "execution_count": 61,
   "metadata": {},
   "outputs": [
    {
     "name": "stdout",
     "output_type": "stream",
     "text": [
      "   ST_NUM     ST_NAME OWN_OCCUPIED  NUM_BEDROOMS  NUM_BATH  SQ_FT  REVENUE\n",
      "0     104      PUTNAM            Y             3         1   1000     3200\n",
      "1     197   LEXINGTON            N             3         1   1144  2700000\n",
      "3     201    BERKELEY            N             1         1    700     1700\n",
      "4     203    BERKELEY            Y             3         2   1600     4500\n",
      "6     210  WASHINGTON            N             2         1    950     1800\n"
     ]
    }
   ],
   "source": [
    "print(df)"
   ]
  },
  {
   "cell_type": "code",
   "execution_count": 62,
   "metadata": {},
   "outputs": [
    {
     "name": "stdout",
     "output_type": "stream",
     "text": [
      "0    False\n",
      "1    False\n",
      "3    False\n",
      "4    False\n",
      "6    False\n",
      "dtype: bool\n"
     ]
    }
   ],
   "source": [
    "print(df.duplicated())"
   ]
  },
  {
   "cell_type": "markdown",
   "metadata": {},
   "source": [
    "### kategorik veri dönüşümü\n"
   ]
  },
  {
   "cell_type": "code",
   "execution_count": 65,
   "metadata": {},
   "outputs": [
    {
     "name": "stdout",
     "output_type": "stream",
     "text": [
      "   ST_NUM     ST_NAME  NUM_BEDROOMS  NUM_BATH  SQ_FT  REVENUE  OWN_OCCUPIED_N  \\\n",
      "0     104      PUTNAM             3         1   1000     3200               0   \n",
      "1     197   LEXINGTON             3         1   1144  2700000               1   \n",
      "3     201    BERKELEY             1         1    700     1700               1   \n",
      "4     203    BERKELEY             3         2   1600     4500               0   \n",
      "6     210  WASHINGTON             2         1    950     1800               1   \n",
      "\n",
      "   OWN_OCCUPIED_Y  \n",
      "0               1  \n",
      "1               0  \n",
      "3               0  \n",
      "4               1  \n",
      "6               0  \n"
     ]
    }
   ],
   "source": [
    "df=pd.get_dummies(df,columns=[\"OWN_OCCUPIED\"])\n",
    "print(df)"
   ]
  },
  {
   "cell_type": "code",
   "execution_count": 66,
   "metadata": {},
   "outputs": [
    {
     "name": "stdout",
     "output_type": "stream",
     "text": [
      "<class 'pandas.core.frame.DataFrame'>\n",
      "Int64Index: 5 entries, 0 to 6\n",
      "Data columns (total 8 columns):\n",
      " #   Column          Non-Null Count  Dtype \n",
      "---  ------          --------------  ----- \n",
      " 0   ST_NUM          5 non-null      int32 \n",
      " 1   ST_NAME         5 non-null      object\n",
      " 2   NUM_BEDROOMS    5 non-null      int32 \n",
      " 3   NUM_BATH        5 non-null      int32 \n",
      " 4   SQ_FT           5 non-null      int32 \n",
      " 5   REVENUE         5 non-null      int32 \n",
      " 6   OWN_OCCUPIED_N  5 non-null      uint8 \n",
      " 7   OWN_OCCUPIED_Y  5 non-null      uint8 \n",
      "dtypes: int32(5), object(1), uint8(2)\n",
      "memory usage: 190.0+ bytes\n",
      "None\n"
     ]
    }
   ],
   "source": [
    "print(df.info())"
   ]
  },
  {
   "cell_type": "markdown",
   "metadata": {},
   "source": [
    "### aşırı veri kontrolü"
   ]
  },
  {
   "cell_type": "code",
   "execution_count": 67,
   "metadata": {},
   "outputs": [
    {
     "name": "stdout",
     "output_type": "stream",
     "text": [
      "0       3200\n",
      "1    2700000\n",
      "3       1700\n",
      "4       4500\n",
      "6       1800\n",
      "Name: REVENUE, dtype: int32\n"
     ]
    }
   ],
   "source": [
    "print(df.REVENUE)"
   ]
  },
  {
   "cell_type": "code",
   "execution_count": 69,
   "metadata": {},
   "outputs": [
    {
     "name": "stdout",
     "output_type": "stream",
     "text": [
      "[0.49962902 1.9999991  0.50101935 0.49842407 0.50092666]\n"
     ]
    }
   ],
   "source": [
    "from scipy import stats\n",
    "z=np.abs(stats.zscore(df[\"REVENUE\"]))\n",
    "print(z)"
   ]
  },
  {
   "cell_type": "code",
   "execution_count": 70,
   "metadata": {},
   "outputs": [
    {
     "name": "stdout",
     "output_type": "stream",
     "text": [
      "(array([1], dtype=int64),)\n"
     ]
    }
   ],
   "source": [
    "print(np.where(z>1))"
   ]
  },
  {
   "cell_type": "code",
   "execution_count": 72,
   "metadata": {},
   "outputs": [],
   "source": [
    "df.loc[1,\"REVENUE\"]=2700"
   ]
  },
  {
   "cell_type": "code",
   "execution_count": 73,
   "metadata": {},
   "outputs": [
    {
     "name": "stdout",
     "output_type": "stream",
     "text": [
      "0    3200\n",
      "1    2700\n",
      "3    1700\n",
      "4    4500\n",
      "6    1800\n",
      "Name: REVENUE, dtype: int32\n"
     ]
    }
   ],
   "source": [
    "print(df.REVENUE)"
   ]
  },
  {
   "cell_type": "code",
   "execution_count": 74,
   "metadata": {},
   "outputs": [],
   "source": [
    "df.loc[1,\"REVENUE\"]=2700000"
   ]
  },
  {
   "cell_type": "code",
   "execution_count": 75,
   "metadata": {},
   "outputs": [
    {
     "name": "stdout",
     "output_type": "stream",
     "text": [
      "   ST_NUM     ST_NAME  NUM_BEDROOMS  NUM_BATH  SQ_FT  REVENUE  OWN_OCCUPIED_N  \\\n",
      "0     104      PUTNAM             3         1   1000     3200               0   \n",
      "1     197   LEXINGTON             3         1   1144  2700000               1   \n",
      "2     201    BERKELEY             1         1    700     1700               1   \n",
      "3     203    BERKELEY             3         2   1600     4500               0   \n",
      "4     210  WASHINGTON             2         1    950     1800               1   \n",
      "\n",
      "   OWN_OCCUPIED_Y  \n",
      "0               1  \n",
      "1               0  \n",
      "2               0  \n",
      "3               1  \n",
      "4               0  \n"
     ]
    }
   ],
   "source": [
    "df.reset_index(inplace=True,drop=True)\n",
    "print(df)"
   ]
  },
  {
   "cell_type": "code",
   "execution_count": 76,
   "metadata": {},
   "outputs": [
    {
     "name": "stdout",
     "output_type": "stream",
     "text": [
      "542240.0\n",
      "1206225.0548716022\n",
      "3200.0\n"
     ]
    }
   ],
   "source": [
    "#quantile uç veri kontrolü\n",
    "print(df.REVENUE.mean())\n",
    "print(df.REVENUE.std())\n",
    "print(np.median(df.REVENUE))"
   ]
  },
  {
   "cell_type": "code",
   "execution_count": 77,
   "metadata": {},
   "outputs": [
    {
     "name": "stdout",
     "output_type": "stream",
     "text": [
      "1710.0\n"
     ]
    }
   ],
   "source": [
    "q_low=df.REVENUE.quantile(0.025)\n",
    "print(q_low)"
   ]
  },
  {
   "cell_type": "code",
   "execution_count": 78,
   "metadata": {},
   "outputs": [
    {
     "name": "stdout",
     "output_type": "stream",
     "text": [
      "   ST_NUM   ST_NAME  NUM_BEDROOMS  NUM_BATH  SQ_FT  REVENUE  OWN_OCCUPIED_N  \\\n",
      "2     201  BERKELEY             1         1    700     1700               1   \n",
      "\n",
      "   OWN_OCCUPIED_Y  \n",
      "2               0  \n"
     ]
    }
   ],
   "source": [
    "print(df[df.REVENUE<q_low])"
   ]
  },
  {
   "cell_type": "code",
   "execution_count": 81,
   "metadata": {},
   "outputs": [
    {
     "name": "stdout",
     "output_type": "stream",
     "text": [
      "2430449.9999999995\n",
      "   ST_NUM    ST_NAME  NUM_BEDROOMS  NUM_BATH  SQ_FT  REVENUE  OWN_OCCUPIED_N  \\\n",
      "1     197  LEXINGTON             3         1   1144  2700000               1   \n",
      "\n",
      "   OWN_OCCUPIED_Y  \n",
      "1               0  \n"
     ]
    }
   ],
   "source": [
    "q_high=df.REVENUE.quantile(0.975)\n",
    "    \n",
    "print(q_high)\n",
    "print(df[df.REVENUE>q_high])"
   ]
  },
  {
   "cell_type": "code",
   "execution_count": 82,
   "metadata": {},
   "outputs": [],
   "source": [
    "df.loc[1,\"REVENUE\"]=2700"
   ]
  },
  {
   "cell_type": "code",
   "execution_count": 83,
   "metadata": {},
   "outputs": [
    {
     "name": "stdout",
     "output_type": "stream",
     "text": [
      "   ST_NUM     ST_NAME  NUM_BEDROOMS  NUM_BATH  SQ_FT  REVENUE  OWN_OCCUPIED_N  \\\n",
      "0     104      PUTNAM             3         1   1000     3200               0   \n",
      "1     197   LEXINGTON             3         1   1144     2700               1   \n",
      "2     201    BERKELEY             1         1    700     1700               1   \n",
      "3     203    BERKELEY             3         2   1600     4500               0   \n",
      "4     210  WASHINGTON             2         1    950     1800               1   \n",
      "\n",
      "   OWN_OCCUPIED_Y  \n",
      "0               1  \n",
      "1               0  \n",
      "2               0  \n",
      "3               1  \n",
      "4               0  \n"
     ]
    }
   ],
   "source": [
    "print(df)"
   ]
  },
  {
   "cell_type": "markdown",
   "metadata": {},
   "source": [
    "### normalizasyon"
   ]
  },
  {
   "cell_type": "code",
   "execution_count": 84,
   "metadata": {},
   "outputs": [
    {
     "name": "stdout",
     "output_type": "stream",
     "text": [
      "   NUM_BEDROOMS  NUM_BATH     SQ_FT   REVENUE\n",
      "0           1.0       0.0  0.333333  0.535714\n",
      "1           1.0       0.0  0.493333  0.357143\n",
      "2           0.0       0.0  0.000000  0.000000\n",
      "3           1.0       1.0  1.000000  1.000000\n",
      "4           0.5       0.0  0.277778  0.035714\n"
     ]
    }
   ],
   "source": [
    "dfScaler=df.loc[:,\"NUM_BEDROOMS\":\"REVENUE\"]\n",
    "x=(dfScaler-np.min(dfScaler))/(np.max(dfScaler)-np.min(dfScaler))\n",
    "print(x)"
   ]
  },
  {
   "cell_type": "markdown",
   "metadata": {},
   "source": [
    "## özellik mühendisliği"
   ]
  },
  {
   "cell_type": "code",
   "execution_count": 85,
   "metadata": {},
   "outputs": [
    {
     "name": "stdout",
     "output_type": "stream",
     "text": [
      "   ST_NUM     ST_NAME  NUM_BEDROOMS  NUM_BATH  SQ_FT  REVENUE  OWN_OCCUPIED_N  \\\n",
      "0     104      PUTNAM             3         1   1000     3200               0   \n",
      "1     197   LEXINGTON             3         1   1144     2700               1   \n",
      "2     201    BERKELEY             1         1    700     1700               1   \n",
      "3     203    BERKELEY             3         2   1600     4500               0   \n",
      "4     210  WASHINGTON             2         1    950     1800               1   \n",
      "\n",
      "   OWN_OCCUPIED_Y  \n",
      "0               1  \n",
      "1               0  \n",
      "2               0  \n",
      "3               1  \n",
      "4               0  \n"
     ]
    }
   ],
   "source": [
    "dfNew=pd.concat([df.loc[:,[\"ST_NUM\",\"ST_NAME\",\"OWN_OCCUPIED_N\",\"OWN_OCCUPIED_Y\"]],x],axis=1)\n",
    "print(df)"
   ]
  },
  {
   "cell_type": "code",
   "execution_count": 86,
   "metadata": {},
   "outputs": [],
   "source": [
    "dfNew.to_csv(\"5_sample.csv\",sep=\";\")"
   ]
  },
  {
   "cell_type": "code",
   "execution_count": null,
   "metadata": {},
   "outputs": [],
   "source": []
  }
 ],
 "metadata": {
  "kernelspec": {
   "display_name": "Python 3",
   "language": "python",
   "name": "python3"
  },
  "language_info": {
   "codemirror_mode": {
    "name": "ipython",
    "version": 3
   },
   "file_extension": ".py",
   "mimetype": "text/x-python",
   "name": "python",
   "nbconvert_exporter": "python",
   "pygments_lexer": "ipython3",
   "version": "3.8.5"
  }
 },
 "nbformat": 4,
 "nbformat_minor": 4
}
